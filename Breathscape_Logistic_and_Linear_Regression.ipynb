{
 "cells": [
  {
   "cell_type": "markdown",
   "id": "70f46ebe",
   "metadata": {},
   "source": [
    "## df_deaths dataset"
   ]
  },
  {
   "cell_type": "code",
   "execution_count": 1,
   "id": "fadea667",
   "metadata": {},
   "outputs": [],
   "source": [
    "# Necessary libraries\n",
    "import pandas as pd\n",
    "import numpy as np\n",
    "import math\n",
    "import matplotlib.pyplot as plt\n",
    "from sklearn.preprocessing import StandardScaler\n",
    "from sklearn.model_selection import train_test_split\n",
    "from sklearn.linear_model import LinearRegression\n",
    "from sklearn.linear_model import LogisticRegression\n",
    "from sklearn.metrics import mean_squared_error\n",
    "from sklearn.metrics import accuracy_score"
   ]
  },
  {
   "cell_type": "code",
   "execution_count": 2,
   "id": "4ad0dea6",
   "metadata": {
    "scrolled": true
   },
   "outputs": [
    {
     "data": {
      "text/html": [
       "<div>\n",
       "<style scoped>\n",
       "    .dataframe tbody tr th:only-of-type {\n",
       "        vertical-align: middle;\n",
       "    }\n",
       "\n",
       "    .dataframe tbody tr th {\n",
       "        vertical-align: top;\n",
       "    }\n",
       "\n",
       "    .dataframe thead th {\n",
       "        text-align: right;\n",
       "    }\n",
       "</style>\n",
       "<table border=\"1\" class=\"dataframe\">\n",
       "  <thead>\n",
       "    <tr style=\"text-align: right;\">\n",
       "      <th></th>\n",
       "      <th>COUNTY</th>\n",
       "      <th>YEARS</th>\n",
       "      <th>STRATA</th>\n",
       "      <th>AGE GROUP</th>\n",
       "      <th>NUMBER OF DEATHS</th>\n",
       "      <th>AGE-ADJUSTED MORTALITY RATE</th>\n",
       "      <th>COMMENT</th>\n",
       "    </tr>\n",
       "  </thead>\n",
       "  <tbody>\n",
       "    <tr>\n",
       "      <th>0</th>\n",
       "      <td>California</td>\n",
       "      <td>2014-2016</td>\n",
       "      <td>Total population</td>\n",
       "      <td>All ages</td>\n",
       "      <td>1,181</td>\n",
       "      <td>9.6</td>\n",
       "      <td>NaN</td>\n",
       "    </tr>\n",
       "    <tr>\n",
       "      <th>1</th>\n",
       "      <td>Alameda</td>\n",
       "      <td>2014-2016</td>\n",
       "      <td>Total population</td>\n",
       "      <td>All ages</td>\n",
       "      <td>58</td>\n",
       "      <td>11.2</td>\n",
       "      <td>NaN</td>\n",
       "    </tr>\n",
       "    <tr>\n",
       "      <th>2</th>\n",
       "      <td>Alpine</td>\n",
       "      <td>2014-2016</td>\n",
       "      <td>Total population</td>\n",
       "      <td>All ages</td>\n",
       "      <td>0</td>\n",
       "      <td>0.0</td>\n",
       "      <td>NaN</td>\n",
       "    </tr>\n",
       "    <tr>\n",
       "      <th>3</th>\n",
       "      <td>Amador</td>\n",
       "      <td>2014-2016</td>\n",
       "      <td>Total population</td>\n",
       "      <td>All ages</td>\n",
       "      <td>0</td>\n",
       "      <td>0.0</td>\n",
       "      <td>NaN</td>\n",
       "    </tr>\n",
       "    <tr>\n",
       "      <th>4</th>\n",
       "      <td>Butte</td>\n",
       "      <td>2014-2016</td>\n",
       "      <td>Total population</td>\n",
       "      <td>All ages</td>\n",
       "      <td>7</td>\n",
       "      <td>NaN</td>\n",
       "      <td>Rate not available due to statistical instability</td>\n",
       "    </tr>\n",
       "  </tbody>\n",
       "</table>\n",
       "</div>"
      ],
      "text/plain": [
       "       COUNTY      YEARS            STRATA AGE GROUP NUMBER OF DEATHS  \\\n",
       "0  California  2014-2016  Total population  All ages            1,181   \n",
       "1     Alameda  2014-2016  Total population  All ages               58   \n",
       "2      Alpine  2014-2016  Total population  All ages                0   \n",
       "3      Amador  2014-2016  Total population  All ages                0   \n",
       "4       Butte  2014-2016  Total population  All ages                7   \n",
       "\n",
       "   AGE-ADJUSTED MORTALITY RATE  \\\n",
       "0                          9.6   \n",
       "1                         11.2   \n",
       "2                          0.0   \n",
       "3                          0.0   \n",
       "4                          NaN   \n",
       "\n",
       "                                             COMMENT  \n",
       "0                                                NaN  \n",
       "1                                                NaN  \n",
       "2                                                NaN  \n",
       "3                                                NaN  \n",
       "4  Rate not available due to statistical instability  "
      ]
     },
     "execution_count": 2,
     "metadata": {},
     "output_type": "execute_result"
    }
   ],
   "source": [
    "# Let's start with deaths from asthma from 2014-2019\n",
    "df_deaths = pd.read_csv('asthma-deaths-by-county-2014_2019.csv', encoding='latin1')\n",
    "df_deaths.head()"
   ]
  },
  {
   "cell_type": "code",
   "execution_count": 3,
   "id": "594741c8",
   "metadata": {},
   "outputs": [
    {
     "data": {
      "text/html": [
       "<div>\n",
       "<style scoped>\n",
       "    .dataframe tbody tr th:only-of-type {\n",
       "        vertical-align: middle;\n",
       "    }\n",
       "\n",
       "    .dataframe tbody tr th {\n",
       "        vertical-align: top;\n",
       "    }\n",
       "\n",
       "    .dataframe thead th {\n",
       "        text-align: right;\n",
       "    }\n",
       "</style>\n",
       "<table border=\"1\" class=\"dataframe\">\n",
       "  <thead>\n",
       "    <tr style=\"text-align: right;\">\n",
       "      <th></th>\n",
       "      <th>COUNTY</th>\n",
       "      <th>YEARS</th>\n",
       "      <th>AGE GROUP</th>\n",
       "      <th>NUMBER OF DEATHS</th>\n",
       "      <th>AGE-ADJUSTED MORTALITY RATE</th>\n",
       "    </tr>\n",
       "  </thead>\n",
       "  <tbody>\n",
       "    <tr>\n",
       "      <th>0</th>\n",
       "      <td>California</td>\n",
       "      <td>2014-2016</td>\n",
       "      <td>All ages</td>\n",
       "      <td>1,181</td>\n",
       "      <td>9.6</td>\n",
       "    </tr>\n",
       "    <tr>\n",
       "      <th>1</th>\n",
       "      <td>Alameda</td>\n",
       "      <td>2014-2016</td>\n",
       "      <td>All ages</td>\n",
       "      <td>58</td>\n",
       "      <td>11.2</td>\n",
       "    </tr>\n",
       "    <tr>\n",
       "      <th>2</th>\n",
       "      <td>Alpine</td>\n",
       "      <td>2014-2016</td>\n",
       "      <td>All ages</td>\n",
       "      <td>0</td>\n",
       "      <td>0.0</td>\n",
       "    </tr>\n",
       "    <tr>\n",
       "      <th>3</th>\n",
       "      <td>Amador</td>\n",
       "      <td>2014-2016</td>\n",
       "      <td>All ages</td>\n",
       "      <td>0</td>\n",
       "      <td>0.0</td>\n",
       "    </tr>\n",
       "    <tr>\n",
       "      <th>4</th>\n",
       "      <td>Butte</td>\n",
       "      <td>2014-2016</td>\n",
       "      <td>All ages</td>\n",
       "      <td>7</td>\n",
       "      <td>NaN</td>\n",
       "    </tr>\n",
       "    <tr>\n",
       "      <th>...</th>\n",
       "      <td>...</td>\n",
       "      <td>...</td>\n",
       "      <td>...</td>\n",
       "      <td>...</td>\n",
       "      <td>...</td>\n",
       "    </tr>\n",
       "    <tr>\n",
       "      <th>349</th>\n",
       "      <td>Tulare</td>\n",
       "      <td>2017-2019</td>\n",
       "      <td>18+ years</td>\n",
       "      <td>16</td>\n",
       "      <td>15.5</td>\n",
       "    </tr>\n",
       "    <tr>\n",
       "      <th>350</th>\n",
       "      <td>Tuolumne</td>\n",
       "      <td>2017-2019</td>\n",
       "      <td>18+ years</td>\n",
       "      <td>NaN</td>\n",
       "      <td>NaN</td>\n",
       "    </tr>\n",
       "    <tr>\n",
       "      <th>351</th>\n",
       "      <td>Ventura</td>\n",
       "      <td>2017-2019</td>\n",
       "      <td>18+ years</td>\n",
       "      <td>17</td>\n",
       "      <td>7.7</td>\n",
       "    </tr>\n",
       "    <tr>\n",
       "      <th>352</th>\n",
       "      <td>Yolo</td>\n",
       "      <td>2017-2019</td>\n",
       "      <td>18+ years</td>\n",
       "      <td>NaN</td>\n",
       "      <td>NaN</td>\n",
       "    </tr>\n",
       "    <tr>\n",
       "      <th>353</th>\n",
       "      <td>Yuba</td>\n",
       "      <td>2017-2019</td>\n",
       "      <td>18+ years</td>\n",
       "      <td>NaN</td>\n",
       "      <td>NaN</td>\n",
       "    </tr>\n",
       "  </tbody>\n",
       "</table>\n",
       "<p>354 rows × 5 columns</p>\n",
       "</div>"
      ],
      "text/plain": [
       "         COUNTY      YEARS  AGE GROUP NUMBER OF DEATHS  \\\n",
       "0    California  2014-2016   All ages            1,181   \n",
       "1       Alameda  2014-2016   All ages               58   \n",
       "2        Alpine  2014-2016   All ages                0   \n",
       "3        Amador  2014-2016   All ages                0   \n",
       "4         Butte  2014-2016   All ages                7   \n",
       "..          ...        ...        ...              ...   \n",
       "349      Tulare  2017-2019  18+ years               16   \n",
       "350    Tuolumne  2017-2019  18+ years              NaN   \n",
       "351     Ventura  2017-2019  18+ years               17   \n",
       "352        Yolo  2017-2019  18+ years              NaN   \n",
       "353        Yuba  2017-2019  18+ years              NaN   \n",
       "\n",
       "     AGE-ADJUSTED MORTALITY RATE  \n",
       "0                            9.6  \n",
       "1                           11.2  \n",
       "2                            0.0  \n",
       "3                            0.0  \n",
       "4                            NaN  \n",
       "..                           ...  \n",
       "349                         15.5  \n",
       "350                          NaN  \n",
       "351                          7.7  \n",
       "352                          NaN  \n",
       "353                          NaN  \n",
       "\n",
       "[354 rows x 5 columns]"
      ]
     },
     "execution_count": 3,
     "metadata": {},
     "output_type": "execute_result"
    }
   ],
   "source": [
    "# Let's remove Strata and comment section from this analysis\n",
    "df_deaths.drop(columns = ['STRATA','COMMENT'],inplace=True)\n",
    "df_deaths"
   ]
  },
  {
   "cell_type": "code",
   "execution_count": 4,
   "id": "64b0aefb",
   "metadata": {},
   "outputs": [
    {
     "data": {
      "text/plain": [
       "COUNTY                          object\n",
       "YEARS                           object\n",
       "AGE GROUP                       object\n",
       "NUMBER OF DEATHS                object\n",
       "AGE-ADJUSTED MORTALITY RATE    float64\n",
       "dtype: object"
      ]
     },
     "execution_count": 4,
     "metadata": {},
     "output_type": "execute_result"
    }
   ],
   "source": [
    "# Let's start cleaning. \n",
    "df_deaths.dtypes #number of deaths should be integer"
   ]
  },
  {
   "cell_type": "code",
   "execution_count": 5,
   "id": "b921879e",
   "metadata": {},
   "outputs": [],
   "source": [
    "df_deaths['NUMBER OF DEATHS'] = df_deaths['NUMBER OF DEATHS'].str.replace(',','').fillna(0).astype(int)  #Replacing the commas and filling NA's with 0"
   ]
  },
  {
   "cell_type": "code",
   "execution_count": 6,
   "id": "f49d5301",
   "metadata": {},
   "outputs": [
    {
     "data": {
      "text/html": [
       "<div>\n",
       "<style scoped>\n",
       "    .dataframe tbody tr th:only-of-type {\n",
       "        vertical-align: middle;\n",
       "    }\n",
       "\n",
       "    .dataframe tbody tr th {\n",
       "        vertical-align: top;\n",
       "    }\n",
       "\n",
       "    .dataframe thead th {\n",
       "        text-align: right;\n",
       "    }\n",
       "</style>\n",
       "<table border=\"1\" class=\"dataframe\">\n",
       "  <thead>\n",
       "    <tr style=\"text-align: right;\">\n",
       "      <th></th>\n",
       "      <th>COUNTY</th>\n",
       "      <th>YEARS</th>\n",
       "      <th>AGE GROUP</th>\n",
       "      <th>NUMBER OF DEATHS</th>\n",
       "      <th>AGE-ADJUSTED MORTALITY RATE</th>\n",
       "    </tr>\n",
       "  </thead>\n",
       "  <tbody>\n",
       "    <tr>\n",
       "      <th>0</th>\n",
       "      <td>California</td>\n",
       "      <td>2014-2016</td>\n",
       "      <td>All ages</td>\n",
       "      <td>1181</td>\n",
       "      <td>9.6</td>\n",
       "    </tr>\n",
       "    <tr>\n",
       "      <th>1</th>\n",
       "      <td>Alameda</td>\n",
       "      <td>2014-2016</td>\n",
       "      <td>All ages</td>\n",
       "      <td>58</td>\n",
       "      <td>11.2</td>\n",
       "    </tr>\n",
       "    <tr>\n",
       "      <th>2</th>\n",
       "      <td>Alpine</td>\n",
       "      <td>2014-2016</td>\n",
       "      <td>All ages</td>\n",
       "      <td>0</td>\n",
       "      <td>0.0</td>\n",
       "    </tr>\n",
       "    <tr>\n",
       "      <th>3</th>\n",
       "      <td>Amador</td>\n",
       "      <td>2014-2016</td>\n",
       "      <td>All ages</td>\n",
       "      <td>0</td>\n",
       "      <td>0.0</td>\n",
       "    </tr>\n",
       "    <tr>\n",
       "      <th>4</th>\n",
       "      <td>Butte</td>\n",
       "      <td>2014-2016</td>\n",
       "      <td>All ages</td>\n",
       "      <td>7</td>\n",
       "      <td>NaN</td>\n",
       "    </tr>\n",
       "    <tr>\n",
       "      <th>...</th>\n",
       "      <td>...</td>\n",
       "      <td>...</td>\n",
       "      <td>...</td>\n",
       "      <td>...</td>\n",
       "      <td>...</td>\n",
       "    </tr>\n",
       "    <tr>\n",
       "      <th>349</th>\n",
       "      <td>Tulare</td>\n",
       "      <td>2017-2019</td>\n",
       "      <td>18+ years</td>\n",
       "      <td>16</td>\n",
       "      <td>15.5</td>\n",
       "    </tr>\n",
       "    <tr>\n",
       "      <th>350</th>\n",
       "      <td>Tuolumne</td>\n",
       "      <td>2017-2019</td>\n",
       "      <td>18+ years</td>\n",
       "      <td>0</td>\n",
       "      <td>NaN</td>\n",
       "    </tr>\n",
       "    <tr>\n",
       "      <th>351</th>\n",
       "      <td>Ventura</td>\n",
       "      <td>2017-2019</td>\n",
       "      <td>18+ years</td>\n",
       "      <td>17</td>\n",
       "      <td>7.7</td>\n",
       "    </tr>\n",
       "    <tr>\n",
       "      <th>352</th>\n",
       "      <td>Yolo</td>\n",
       "      <td>2017-2019</td>\n",
       "      <td>18+ years</td>\n",
       "      <td>0</td>\n",
       "      <td>NaN</td>\n",
       "    </tr>\n",
       "    <tr>\n",
       "      <th>353</th>\n",
       "      <td>Yuba</td>\n",
       "      <td>2017-2019</td>\n",
       "      <td>18+ years</td>\n",
       "      <td>0</td>\n",
       "      <td>NaN</td>\n",
       "    </tr>\n",
       "  </tbody>\n",
       "</table>\n",
       "<p>354 rows × 5 columns</p>\n",
       "</div>"
      ],
      "text/plain": [
       "         COUNTY      YEARS  AGE GROUP  NUMBER OF DEATHS  \\\n",
       "0    California  2014-2016   All ages              1181   \n",
       "1       Alameda  2014-2016   All ages                58   \n",
       "2        Alpine  2014-2016   All ages                 0   \n",
       "3        Amador  2014-2016   All ages                 0   \n",
       "4         Butte  2014-2016   All ages                 7   \n",
       "..          ...        ...        ...               ...   \n",
       "349      Tulare  2017-2019  18+ years                16   \n",
       "350    Tuolumne  2017-2019  18+ years                 0   \n",
       "351     Ventura  2017-2019  18+ years                17   \n",
       "352        Yolo  2017-2019  18+ years                 0   \n",
       "353        Yuba  2017-2019  18+ years                 0   \n",
       "\n",
       "     AGE-ADJUSTED MORTALITY RATE  \n",
       "0                            9.6  \n",
       "1                           11.2  \n",
       "2                            0.0  \n",
       "3                            0.0  \n",
       "4                            NaN  \n",
       "..                           ...  \n",
       "349                         15.5  \n",
       "350                          NaN  \n",
       "351                          7.7  \n",
       "352                          NaN  \n",
       "353                          NaN  \n",
       "\n",
       "[354 rows x 5 columns]"
      ]
     },
     "execution_count": 6,
     "metadata": {},
     "output_type": "execute_result"
    }
   ],
   "source": [
    "df_deaths"
   ]
  },
  {
   "cell_type": "code",
   "execution_count": 7,
   "id": "901d26d7",
   "metadata": {},
   "outputs": [],
   "source": [
    "# Since we replaced the number of deaths having NA values with 0. Let's first deal with it\n",
    "# Let's see if we can replace it with mean or median\n",
    "mn = df_deaths.groupby('AGE GROUP')['NUMBER OF DEATHS'].mean()\n",
    "md = df_deaths.groupby('AGE GROUP')['NUMBER OF DEATHS'].median()"
   ]
  },
  {
   "cell_type": "code",
   "execution_count": 8,
   "id": "b4051cab",
   "metadata": {},
   "outputs": [
    {
     "name": "stdout",
     "output_type": "stream",
     "text": [
      "Mean is : AGE GROUP\n",
      "0-17 years     1.000000\n",
      "18+ years     37.415254\n",
      "All ages      38.949153\n",
      "Name: NUMBER OF DEATHS, dtype: float64\n",
      "\n",
      "\n",
      "Median is : AGE GROUP\n",
      "0-17 years    0.0\n",
      "18+ years     3.0\n",
      "All ages      6.0\n",
      "Name: NUMBER OF DEATHS, dtype: float64\n"
     ]
    }
   ],
   "source": [
    "print(\"Mean is :\", mn)\n",
    "print(\"\\n\\nMedian is :\",md)  #Therefore mean seems to be a good method."
   ]
  },
  {
   "cell_type": "markdown",
   "id": "abbb97d5",
   "metadata": {},
   "source": [
    "We are moving with mean in this case as we cannot for data retrival team to do the work properly. But in this case, we should always contact the team to provide or change the method of data retrival, as we can clearly see, that data collected from 0-17 age group has mostly 0 values which is not accurate but in this case we replace by mean so that data can be ready for analysis. But the analysis can be better if that data retrival or provided would be better"
   ]
  },
  {
   "cell_type": "code",
   "execution_count": 9,
   "id": "8d5e9bf3",
   "metadata": {},
   "outputs": [],
   "source": [
    "def fill_zeros(row):  #making a function to fill with age group mean, if found 0 in a particular age group mean\n",
    "    if row['NUMBER OF DEATHS'] == 0:\n",
    "        return mn[row['AGE GROUP']]\n",
    "    else:\n",
    "        return row['NUMBER OF DEATHS']\n",
    "\n",
    "# Applying the function\n",
    "df_deaths['NUMBER OF DEATHS'] = df_deaths.apply(fill_zeros, axis=1)\n",
    "\n",
    "df_deaths['NUMBER OF DEATHS'] = df_deaths['NUMBER OF DEATHS'].round().astype(int)"
   ]
  },
  {
   "cell_type": "code",
   "execution_count": 10,
   "id": "0efeea85",
   "metadata": {},
   "outputs": [
    {
     "data": {
      "text/html": [
       "<div>\n",
       "<style scoped>\n",
       "    .dataframe tbody tr th:only-of-type {\n",
       "        vertical-align: middle;\n",
       "    }\n",
       "\n",
       "    .dataframe tbody tr th {\n",
       "        vertical-align: top;\n",
       "    }\n",
       "\n",
       "    .dataframe thead th {\n",
       "        text-align: right;\n",
       "    }\n",
       "</style>\n",
       "<table border=\"1\" class=\"dataframe\">\n",
       "  <thead>\n",
       "    <tr style=\"text-align: right;\">\n",
       "      <th></th>\n",
       "      <th>COUNTY</th>\n",
       "      <th>YEARS</th>\n",
       "      <th>AGE GROUP</th>\n",
       "      <th>NUMBER OF DEATHS</th>\n",
       "      <th>AGE-ADJUSTED MORTALITY RATE</th>\n",
       "    </tr>\n",
       "  </thead>\n",
       "  <tbody>\n",
       "    <tr>\n",
       "      <th>0</th>\n",
       "      <td>California</td>\n",
       "      <td>2014-2016</td>\n",
       "      <td>All ages</td>\n",
       "      <td>1181</td>\n",
       "      <td>9.6</td>\n",
       "    </tr>\n",
       "    <tr>\n",
       "      <th>1</th>\n",
       "      <td>Alameda</td>\n",
       "      <td>2014-2016</td>\n",
       "      <td>All ages</td>\n",
       "      <td>58</td>\n",
       "      <td>11.2</td>\n",
       "    </tr>\n",
       "    <tr>\n",
       "      <th>2</th>\n",
       "      <td>Alpine</td>\n",
       "      <td>2014-2016</td>\n",
       "      <td>All ages</td>\n",
       "      <td>39</td>\n",
       "      <td>0.0</td>\n",
       "    </tr>\n",
       "    <tr>\n",
       "      <th>3</th>\n",
       "      <td>Amador</td>\n",
       "      <td>2014-2016</td>\n",
       "      <td>All ages</td>\n",
       "      <td>39</td>\n",
       "      <td>0.0</td>\n",
       "    </tr>\n",
       "    <tr>\n",
       "      <th>4</th>\n",
       "      <td>Butte</td>\n",
       "      <td>2014-2016</td>\n",
       "      <td>All ages</td>\n",
       "      <td>7</td>\n",
       "      <td>NaN</td>\n",
       "    </tr>\n",
       "    <tr>\n",
       "      <th>...</th>\n",
       "      <td>...</td>\n",
       "      <td>...</td>\n",
       "      <td>...</td>\n",
       "      <td>...</td>\n",
       "      <td>...</td>\n",
       "    </tr>\n",
       "    <tr>\n",
       "      <th>349</th>\n",
       "      <td>Tulare</td>\n",
       "      <td>2017-2019</td>\n",
       "      <td>18+ years</td>\n",
       "      <td>16</td>\n",
       "      <td>15.5</td>\n",
       "    </tr>\n",
       "    <tr>\n",
       "      <th>350</th>\n",
       "      <td>Tuolumne</td>\n",
       "      <td>2017-2019</td>\n",
       "      <td>18+ years</td>\n",
       "      <td>37</td>\n",
       "      <td>NaN</td>\n",
       "    </tr>\n",
       "    <tr>\n",
       "      <th>351</th>\n",
       "      <td>Ventura</td>\n",
       "      <td>2017-2019</td>\n",
       "      <td>18+ years</td>\n",
       "      <td>17</td>\n",
       "      <td>7.7</td>\n",
       "    </tr>\n",
       "    <tr>\n",
       "      <th>352</th>\n",
       "      <td>Yolo</td>\n",
       "      <td>2017-2019</td>\n",
       "      <td>18+ years</td>\n",
       "      <td>37</td>\n",
       "      <td>NaN</td>\n",
       "    </tr>\n",
       "    <tr>\n",
       "      <th>353</th>\n",
       "      <td>Yuba</td>\n",
       "      <td>2017-2019</td>\n",
       "      <td>18+ years</td>\n",
       "      <td>37</td>\n",
       "      <td>NaN</td>\n",
       "    </tr>\n",
       "  </tbody>\n",
       "</table>\n",
       "<p>354 rows × 5 columns</p>\n",
       "</div>"
      ],
      "text/plain": [
       "         COUNTY      YEARS  AGE GROUP  NUMBER OF DEATHS  \\\n",
       "0    California  2014-2016   All ages              1181   \n",
       "1       Alameda  2014-2016   All ages                58   \n",
       "2        Alpine  2014-2016   All ages                39   \n",
       "3        Amador  2014-2016   All ages                39   \n",
       "4         Butte  2014-2016   All ages                 7   \n",
       "..          ...        ...        ...               ...   \n",
       "349      Tulare  2017-2019  18+ years                16   \n",
       "350    Tuolumne  2017-2019  18+ years                37   \n",
       "351     Ventura  2017-2019  18+ years                17   \n",
       "352        Yolo  2017-2019  18+ years                37   \n",
       "353        Yuba  2017-2019  18+ years                37   \n",
       "\n",
       "     AGE-ADJUSTED MORTALITY RATE  \n",
       "0                            9.6  \n",
       "1                           11.2  \n",
       "2                            0.0  \n",
       "3                            0.0  \n",
       "4                            NaN  \n",
       "..                           ...  \n",
       "349                         15.5  \n",
       "350                          NaN  \n",
       "351                          7.7  \n",
       "352                          NaN  \n",
       "353                          NaN  \n",
       "\n",
       "[354 rows x 5 columns]"
      ]
     },
     "execution_count": 10,
     "metadata": {},
     "output_type": "execute_result"
    }
   ],
   "source": [
    "df_deaths"
   ]
  },
  {
   "cell_type": "code",
   "execution_count": 11,
   "id": "bf7e9964",
   "metadata": {},
   "outputs": [],
   "source": [
    "# Now lets deal with age adjusted mortality rate in the same manner\n",
    "\n",
    "mn1 = df_deaths.groupby('AGE GROUP')['AGE-ADJUSTED MORTALITY RATE'].mean()\n",
    "md1 = df_deaths.groupby('AGE GROUP')['AGE-ADJUSTED MORTALITY RATE'].median()"
   ]
  },
  {
   "cell_type": "code",
   "execution_count": 12,
   "id": "d6214c62",
   "metadata": {},
   "outputs": [
    {
     "name": "stdout",
     "output_type": "stream",
     "text": [
      "Mean is : AGE GROUP\n",
      "0-17 years     0.073864\n",
      "18+ years     10.732759\n",
      "All ages       8.218966\n",
      "Name: AGE-ADJUSTED MORTALITY RATE, dtype: float64\n",
      "\n",
      "\n",
      "Median is : AGE GROUP\n",
      "0-17 years     0.00\n",
      "18+ years     11.90\n",
      "All ages       9.05\n",
      "Name: AGE-ADJUSTED MORTALITY RATE, dtype: float64\n"
     ]
    }
   ],
   "source": [
    "print(\"Mean is :\", mn1)\n",
    "print(\"\\n\\nMedian is :\",md1)  #Therefore mean seems to be a good method again.\n",
    "\n",
    "#Again if we could have, we would have asked the data retrieval to be done properly"
   ]
  },
  {
   "cell_type": "code",
   "execution_count": 13,
   "id": "ee6f2680",
   "metadata": {},
   "outputs": [],
   "source": [
    "def fill_zeros1(row):  #making similar function\n",
    "    if row['AGE-ADJUSTED MORTALITY RATE'] == 0 or math.isnan(row['AGE-ADJUSTED MORTALITY RATE']):\n",
    "        return mn1[row['AGE GROUP']]\n",
    "    else:\n",
    "        return row['AGE-ADJUSTED MORTALITY RATE']\n",
    "\n",
    "# Applying the function\n",
    "df_deaths['AGE-ADJUSTED MORTALITY RATE'] = df_deaths.apply(fill_zeros1, axis=1)\n",
    "\n",
    "df_deaths['AGE-ADJUSTED MORTALITY RATE'] = round(df_deaths['AGE-ADJUSTED MORTALITY RATE'],2) #rounding up to 2 decimals"
   ]
  },
  {
   "cell_type": "code",
   "execution_count": 14,
   "id": "5ccb8df4",
   "metadata": {
    "scrolled": true
   },
   "outputs": [
    {
     "data": {
      "text/html": [
       "<div>\n",
       "<style scoped>\n",
       "    .dataframe tbody tr th:only-of-type {\n",
       "        vertical-align: middle;\n",
       "    }\n",
       "\n",
       "    .dataframe tbody tr th {\n",
       "        vertical-align: top;\n",
       "    }\n",
       "\n",
       "    .dataframe thead th {\n",
       "        text-align: right;\n",
       "    }\n",
       "</style>\n",
       "<table border=\"1\" class=\"dataframe\">\n",
       "  <thead>\n",
       "    <tr style=\"text-align: right;\">\n",
       "      <th></th>\n",
       "      <th>COUNTY</th>\n",
       "      <th>YEARS</th>\n",
       "      <th>AGE GROUP</th>\n",
       "      <th>NUMBER OF DEATHS</th>\n",
       "      <th>AGE-ADJUSTED MORTALITY RATE</th>\n",
       "    </tr>\n",
       "  </thead>\n",
       "  <tbody>\n",
       "    <tr>\n",
       "      <th>0</th>\n",
       "      <td>California</td>\n",
       "      <td>2014-2016</td>\n",
       "      <td>All ages</td>\n",
       "      <td>1181</td>\n",
       "      <td>9.60</td>\n",
       "    </tr>\n",
       "    <tr>\n",
       "      <th>1</th>\n",
       "      <td>Alameda</td>\n",
       "      <td>2014-2016</td>\n",
       "      <td>All ages</td>\n",
       "      <td>58</td>\n",
       "      <td>11.20</td>\n",
       "    </tr>\n",
       "    <tr>\n",
       "      <th>2</th>\n",
       "      <td>Alpine</td>\n",
       "      <td>2014-2016</td>\n",
       "      <td>All ages</td>\n",
       "      <td>39</td>\n",
       "      <td>8.22</td>\n",
       "    </tr>\n",
       "    <tr>\n",
       "      <th>3</th>\n",
       "      <td>Amador</td>\n",
       "      <td>2014-2016</td>\n",
       "      <td>All ages</td>\n",
       "      <td>39</td>\n",
       "      <td>8.22</td>\n",
       "    </tr>\n",
       "    <tr>\n",
       "      <th>4</th>\n",
       "      <td>Butte</td>\n",
       "      <td>2014-2016</td>\n",
       "      <td>All ages</td>\n",
       "      <td>7</td>\n",
       "      <td>8.22</td>\n",
       "    </tr>\n",
       "  </tbody>\n",
       "</table>\n",
       "</div>"
      ],
      "text/plain": [
       "       COUNTY      YEARS AGE GROUP  NUMBER OF DEATHS  \\\n",
       "0  California  2014-2016  All ages              1181   \n",
       "1     Alameda  2014-2016  All ages                58   \n",
       "2      Alpine  2014-2016  All ages                39   \n",
       "3      Amador  2014-2016  All ages                39   \n",
       "4       Butte  2014-2016  All ages                 7   \n",
       "\n",
       "   AGE-ADJUSTED MORTALITY RATE  \n",
       "0                         9.60  \n",
       "1                        11.20  \n",
       "2                         8.22  \n",
       "3                         8.22  \n",
       "4                         8.22  "
      ]
     },
     "execution_count": 14,
     "metadata": {},
     "output_type": "execute_result"
    }
   ],
   "source": [
    "df_deaths.head()"
   ]
  },
  {
   "cell_type": "code",
   "execution_count": 15,
   "id": "8c39d05c",
   "metadata": {},
   "outputs": [
    {
     "data": {
      "text/html": [
       "<div>\n",
       "<style scoped>\n",
       "    .dataframe tbody tr th:only-of-type {\n",
       "        vertical-align: middle;\n",
       "    }\n",
       "\n",
       "    .dataframe tbody tr th {\n",
       "        vertical-align: top;\n",
       "    }\n",
       "\n",
       "    .dataframe thead th {\n",
       "        text-align: right;\n",
       "    }\n",
       "</style>\n",
       "<table border=\"1\" class=\"dataframe\">\n",
       "  <thead>\n",
       "    <tr style=\"text-align: right;\">\n",
       "      <th></th>\n",
       "      <th>NUMBER OF DEATHS</th>\n",
       "      <th>AGE-ADJUSTED MORTALITY RATE</th>\n",
       "    </tr>\n",
       "  </thead>\n",
       "  <tbody>\n",
       "    <tr>\n",
       "      <th>count</th>\n",
       "      <td>354.000000</td>\n",
       "      <td>354.000000</td>\n",
       "    </tr>\n",
       "    <tr>\n",
       "      <th>mean</th>\n",
       "      <td>38.446328</td>\n",
       "      <td>7.107486</td>\n",
       "    </tr>\n",
       "    <tr>\n",
       "      <th>std</th>\n",
       "      <td>124.128936</td>\n",
       "      <td>5.693896</td>\n",
       "    </tr>\n",
       "    <tr>\n",
       "      <th>min</th>\n",
       "      <td>1.000000</td>\n",
       "      <td>0.070000</td>\n",
       "    </tr>\n",
       "    <tr>\n",
       "      <th>25%</th>\n",
       "      <td>1.000000</td>\n",
       "      <td>0.070000</td>\n",
       "    </tr>\n",
       "    <tr>\n",
       "      <th>50%</th>\n",
       "      <td>22.500000</td>\n",
       "      <td>8.220000</td>\n",
       "    </tr>\n",
       "    <tr>\n",
       "      <th>75%</th>\n",
       "      <td>39.000000</td>\n",
       "      <td>10.730000</td>\n",
       "    </tr>\n",
       "    <tr>\n",
       "      <th>max</th>\n",
       "      <td>1181.000000</td>\n",
       "      <td>27.600000</td>\n",
       "    </tr>\n",
       "  </tbody>\n",
       "</table>\n",
       "</div>"
      ],
      "text/plain": [
       "       NUMBER OF DEATHS  AGE-ADJUSTED MORTALITY RATE\n",
       "count        354.000000                   354.000000\n",
       "mean          38.446328                     7.107486\n",
       "std          124.128936                     5.693896\n",
       "min            1.000000                     0.070000\n",
       "25%            1.000000                     0.070000\n",
       "50%           22.500000                     8.220000\n",
       "75%           39.000000                    10.730000\n",
       "max         1181.000000                    27.600000"
      ]
     },
     "execution_count": 15,
     "metadata": {},
     "output_type": "execute_result"
    }
   ],
   "source": [
    "df_deaths.describe()"
   ]
  },
  {
   "cell_type": "code",
   "execution_count": 16,
   "id": "eb34919b",
   "metadata": {},
   "outputs": [
    {
     "data": {
      "text/plain": [
       "array(['2014-2016', '2017-2019'], dtype=object)"
      ]
     },
     "execution_count": 16,
     "metadata": {},
     "output_type": "execute_result"
    }
   ],
   "source": [
    "df_deaths['YEARS'].unique()"
   ]
  },
  {
   "cell_type": "code",
   "execution_count": 17,
   "id": "339e2662",
   "metadata": {},
   "outputs": [
    {
     "data": {
      "text/plain": [
       "array(['All ages', '0-17 years', '18+ years'], dtype=object)"
      ]
     },
     "execution_count": 17,
     "metadata": {},
     "output_type": "execute_result"
    }
   ],
   "source": [
    "df_deaths['AGE GROUP'].unique()"
   ]
  },
  {
   "cell_type": "code",
   "execution_count": 18,
   "id": "2c688b84",
   "metadata": {
    "scrolled": true
   },
   "outputs": [
    {
     "data": {
      "text/html": [
       "<div>\n",
       "<style scoped>\n",
       "    .dataframe tbody tr th:only-of-type {\n",
       "        vertical-align: middle;\n",
       "    }\n",
       "\n",
       "    .dataframe tbody tr th {\n",
       "        vertical-align: top;\n",
       "    }\n",
       "\n",
       "    .dataframe thead th {\n",
       "        text-align: right;\n",
       "    }\n",
       "</style>\n",
       "<table border=\"1\" class=\"dataframe\">\n",
       "  <thead>\n",
       "    <tr style=\"text-align: right;\">\n",
       "      <th></th>\n",
       "      <th>COUNTY</th>\n",
       "      <th>YEARS</th>\n",
       "      <th>AGE GROUP</th>\n",
       "      <th>NUMBER OF DEATHS</th>\n",
       "      <th>AGE-ADJUSTED MORTALITY RATE</th>\n",
       "      <th>NUMERIC AGE GROUP</th>\n",
       "      <th>NUMERIC YEARS</th>\n",
       "    </tr>\n",
       "  </thead>\n",
       "  <tbody>\n",
       "    <tr>\n",
       "      <th>0</th>\n",
       "      <td>California</td>\n",
       "      <td>2014-2016</td>\n",
       "      <td>All ages</td>\n",
       "      <td>1181</td>\n",
       "      <td>9.60</td>\n",
       "      <td>0</td>\n",
       "      <td>0</td>\n",
       "    </tr>\n",
       "    <tr>\n",
       "      <th>1</th>\n",
       "      <td>Alameda</td>\n",
       "      <td>2014-2016</td>\n",
       "      <td>All ages</td>\n",
       "      <td>58</td>\n",
       "      <td>11.20</td>\n",
       "      <td>0</td>\n",
       "      <td>0</td>\n",
       "    </tr>\n",
       "    <tr>\n",
       "      <th>2</th>\n",
       "      <td>Alpine</td>\n",
       "      <td>2014-2016</td>\n",
       "      <td>All ages</td>\n",
       "      <td>39</td>\n",
       "      <td>8.22</td>\n",
       "      <td>0</td>\n",
       "      <td>0</td>\n",
       "    </tr>\n",
       "    <tr>\n",
       "      <th>3</th>\n",
       "      <td>Amador</td>\n",
       "      <td>2014-2016</td>\n",
       "      <td>All ages</td>\n",
       "      <td>39</td>\n",
       "      <td>8.22</td>\n",
       "      <td>0</td>\n",
       "      <td>0</td>\n",
       "    </tr>\n",
       "    <tr>\n",
       "      <th>4</th>\n",
       "      <td>Butte</td>\n",
       "      <td>2014-2016</td>\n",
       "      <td>All ages</td>\n",
       "      <td>7</td>\n",
       "      <td>8.22</td>\n",
       "      <td>0</td>\n",
       "      <td>0</td>\n",
       "    </tr>\n",
       "  </tbody>\n",
       "</table>\n",
       "</div>"
      ],
      "text/plain": [
       "       COUNTY      YEARS AGE GROUP  NUMBER OF DEATHS  \\\n",
       "0  California  2014-2016  All ages              1181   \n",
       "1     Alameda  2014-2016  All ages                58   \n",
       "2      Alpine  2014-2016  All ages                39   \n",
       "3      Amador  2014-2016  All ages                39   \n",
       "4       Butte  2014-2016  All ages                 7   \n",
       "\n",
       "   AGE-ADJUSTED MORTALITY RATE  NUMERIC AGE GROUP  NUMERIC YEARS  \n",
       "0                         9.60                  0              0  \n",
       "1                        11.20                  0              0  \n",
       "2                         8.22                  0              0  \n",
       "3                         8.22                  0              0  \n",
       "4                         8.22                  0              0  "
      ]
     },
     "execution_count": 18,
     "metadata": {},
     "output_type": "execute_result"
    }
   ],
   "source": [
    "# Converting the years column and age group column into numerical from categorical\n",
    "\n",
    "age_group_mapping = {'All ages': 0, '0-17 years': 1, '18+ years': 2}\n",
    "\n",
    "# Apply mapping to the 'AGE GROUP' column\n",
    "df_deaths['NUMERIC AGE GROUP'] = df_deaths['AGE GROUP'].map(age_group_mapping)\n",
    "\n",
    "years_mapping = {'2014-2016': 0, '2017-2019': 1}\n",
    "\n",
    "# Apply mapping to the 'YEARS' column\n",
    "df_deaths['NUMERIC YEARS'] = df_deaths['YEARS'].map(years_mapping)\n",
    "\n",
    "df_deaths.head()"
   ]
  },
  {
   "cell_type": "code",
   "execution_count": 19,
   "id": "3b90b876",
   "metadata": {
    "scrolled": false
   },
   "outputs": [
    {
     "data": {
      "text/html": [
       "<div>\n",
       "<style scoped>\n",
       "    .dataframe tbody tr th:only-of-type {\n",
       "        vertical-align: middle;\n",
       "    }\n",
       "\n",
       "    .dataframe tbody tr th {\n",
       "        vertical-align: top;\n",
       "    }\n",
       "\n",
       "    .dataframe thead th {\n",
       "        text-align: right;\n",
       "    }\n",
       "</style>\n",
       "<table border=\"1\" class=\"dataframe\">\n",
       "  <thead>\n",
       "    <tr style=\"text-align: right;\">\n",
       "      <th></th>\n",
       "      <th>COUNTY</th>\n",
       "      <th>YEARS</th>\n",
       "      <th>AGE GROUP</th>\n",
       "      <th>NUMBER OF DEATHS</th>\n",
       "      <th>AGE-ADJUSTED MORTALITY RATE</th>\n",
       "      <th>NUMERIC AGE GROUP</th>\n",
       "      <th>NUMERIC YEARS</th>\n",
       "    </tr>\n",
       "  </thead>\n",
       "  <tbody>\n",
       "    <tr>\n",
       "      <th>1</th>\n",
       "      <td>Alameda</td>\n",
       "      <td>2014-2016</td>\n",
       "      <td>All ages</td>\n",
       "      <td>58</td>\n",
       "      <td>11.20</td>\n",
       "      <td>0</td>\n",
       "      <td>0</td>\n",
       "    </tr>\n",
       "    <tr>\n",
       "      <th>2</th>\n",
       "      <td>Alpine</td>\n",
       "      <td>2014-2016</td>\n",
       "      <td>All ages</td>\n",
       "      <td>39</td>\n",
       "      <td>8.22</td>\n",
       "      <td>0</td>\n",
       "      <td>0</td>\n",
       "    </tr>\n",
       "    <tr>\n",
       "      <th>3</th>\n",
       "      <td>Amador</td>\n",
       "      <td>2014-2016</td>\n",
       "      <td>All ages</td>\n",
       "      <td>39</td>\n",
       "      <td>8.22</td>\n",
       "      <td>0</td>\n",
       "      <td>0</td>\n",
       "    </tr>\n",
       "    <tr>\n",
       "      <th>4</th>\n",
       "      <td>Butte</td>\n",
       "      <td>2014-2016</td>\n",
       "      <td>All ages</td>\n",
       "      <td>7</td>\n",
       "      <td>8.22</td>\n",
       "      <td>0</td>\n",
       "      <td>0</td>\n",
       "    </tr>\n",
       "    <tr>\n",
       "      <th>5</th>\n",
       "      <td>Calaveras</td>\n",
       "      <td>2014-2016</td>\n",
       "      <td>All ages</td>\n",
       "      <td>39</td>\n",
       "      <td>8.22</td>\n",
       "      <td>0</td>\n",
       "      <td>0</td>\n",
       "    </tr>\n",
       "    <tr>\n",
       "      <th>...</th>\n",
       "      <td>...</td>\n",
       "      <td>...</td>\n",
       "      <td>...</td>\n",
       "      <td>...</td>\n",
       "      <td>...</td>\n",
       "      <td>...</td>\n",
       "      <td>...</td>\n",
       "    </tr>\n",
       "    <tr>\n",
       "      <th>349</th>\n",
       "      <td>Tulare</td>\n",
       "      <td>2017-2019</td>\n",
       "      <td>18+ years</td>\n",
       "      <td>16</td>\n",
       "      <td>15.50</td>\n",
       "      <td>2</td>\n",
       "      <td>1</td>\n",
       "    </tr>\n",
       "    <tr>\n",
       "      <th>350</th>\n",
       "      <td>Tuolumne</td>\n",
       "      <td>2017-2019</td>\n",
       "      <td>18+ years</td>\n",
       "      <td>37</td>\n",
       "      <td>10.73</td>\n",
       "      <td>2</td>\n",
       "      <td>1</td>\n",
       "    </tr>\n",
       "    <tr>\n",
       "      <th>351</th>\n",
       "      <td>Ventura</td>\n",
       "      <td>2017-2019</td>\n",
       "      <td>18+ years</td>\n",
       "      <td>17</td>\n",
       "      <td>7.70</td>\n",
       "      <td>2</td>\n",
       "      <td>1</td>\n",
       "    </tr>\n",
       "    <tr>\n",
       "      <th>352</th>\n",
       "      <td>Yolo</td>\n",
       "      <td>2017-2019</td>\n",
       "      <td>18+ years</td>\n",
       "      <td>37</td>\n",
       "      <td>10.73</td>\n",
       "      <td>2</td>\n",
       "      <td>1</td>\n",
       "    </tr>\n",
       "    <tr>\n",
       "      <th>353</th>\n",
       "      <td>Yuba</td>\n",
       "      <td>2017-2019</td>\n",
       "      <td>18+ years</td>\n",
       "      <td>37</td>\n",
       "      <td>10.73</td>\n",
       "      <td>2</td>\n",
       "      <td>1</td>\n",
       "    </tr>\n",
       "  </tbody>\n",
       "</table>\n",
       "<p>348 rows × 7 columns</p>\n",
       "</div>"
      ],
      "text/plain": [
       "        COUNTY      YEARS  AGE GROUP  NUMBER OF DEATHS  \\\n",
       "1      Alameda  2014-2016   All ages                58   \n",
       "2       Alpine  2014-2016   All ages                39   \n",
       "3       Amador  2014-2016   All ages                39   \n",
       "4        Butte  2014-2016   All ages                 7   \n",
       "5    Calaveras  2014-2016   All ages                39   \n",
       "..         ...        ...        ...               ...   \n",
       "349     Tulare  2017-2019  18+ years                16   \n",
       "350   Tuolumne  2017-2019  18+ years                37   \n",
       "351    Ventura  2017-2019  18+ years                17   \n",
       "352       Yolo  2017-2019  18+ years                37   \n",
       "353       Yuba  2017-2019  18+ years                37   \n",
       "\n",
       "     AGE-ADJUSTED MORTALITY RATE  NUMERIC AGE GROUP  NUMERIC YEARS  \n",
       "1                          11.20                  0              0  \n",
       "2                           8.22                  0              0  \n",
       "3                           8.22                  0              0  \n",
       "4                           8.22                  0              0  \n",
       "5                           8.22                  0              0  \n",
       "..                           ...                ...            ...  \n",
       "349                        15.50                  2              1  \n",
       "350                        10.73                  2              1  \n",
       "351                         7.70                  2              1  \n",
       "352                        10.73                  2              1  \n",
       "353                        10.73                  2              1  \n",
       "\n",
       "[348 rows x 7 columns]"
      ]
     },
     "execution_count": 19,
     "metadata": {},
     "output_type": "execute_result"
    }
   ],
   "source": [
    "df_deaths[df_deaths['COUNTY'] != 'California']"
   ]
  },
  {
   "cell_type": "code",
   "execution_count": 20,
   "id": "ed18ccc7",
   "metadata": {},
   "outputs": [
    {
     "data": {
      "text/html": [
       "<div>\n",
       "<style scoped>\n",
       "    .dataframe tbody tr th:only-of-type {\n",
       "        vertical-align: middle;\n",
       "    }\n",
       "\n",
       "    .dataframe tbody tr th {\n",
       "        vertical-align: top;\n",
       "    }\n",
       "\n",
       "    .dataframe thead th {\n",
       "        text-align: right;\n",
       "    }\n",
       "</style>\n",
       "<table border=\"1\" class=\"dataframe\">\n",
       "  <thead>\n",
       "    <tr style=\"text-align: right;\">\n",
       "      <th></th>\n",
       "      <th>COUNTY</th>\n",
       "      <th>YEARS</th>\n",
       "      <th>AGE GROUP</th>\n",
       "      <th>NUMBER OF DEATHS</th>\n",
       "      <th>AGE-ADJUSTED MORTALITY RATE</th>\n",
       "      <th>NUMERIC AGE GROUP</th>\n",
       "      <th>NUMERIC YEARS</th>\n",
       "    </tr>\n",
       "  </thead>\n",
       "  <tbody>\n",
       "    <tr>\n",
       "      <th>1</th>\n",
       "      <td>Alameda</td>\n",
       "      <td>2014-2016</td>\n",
       "      <td>All ages</td>\n",
       "      <td>58</td>\n",
       "      <td>11.20</td>\n",
       "      <td>0</td>\n",
       "      <td>0</td>\n",
       "    </tr>\n",
       "    <tr>\n",
       "      <th>2</th>\n",
       "      <td>Alpine</td>\n",
       "      <td>2014-2016</td>\n",
       "      <td>All ages</td>\n",
       "      <td>39</td>\n",
       "      <td>8.22</td>\n",
       "      <td>0</td>\n",
       "      <td>0</td>\n",
       "    </tr>\n",
       "    <tr>\n",
       "      <th>3</th>\n",
       "      <td>Amador</td>\n",
       "      <td>2014-2016</td>\n",
       "      <td>All ages</td>\n",
       "      <td>39</td>\n",
       "      <td>8.22</td>\n",
       "      <td>0</td>\n",
       "      <td>0</td>\n",
       "    </tr>\n",
       "    <tr>\n",
       "      <th>4</th>\n",
       "      <td>Butte</td>\n",
       "      <td>2014-2016</td>\n",
       "      <td>All ages</td>\n",
       "      <td>7</td>\n",
       "      <td>8.22</td>\n",
       "      <td>0</td>\n",
       "      <td>0</td>\n",
       "    </tr>\n",
       "    <tr>\n",
       "      <th>5</th>\n",
       "      <td>Calaveras</td>\n",
       "      <td>2014-2016</td>\n",
       "      <td>All ages</td>\n",
       "      <td>39</td>\n",
       "      <td>8.22</td>\n",
       "      <td>0</td>\n",
       "      <td>0</td>\n",
       "    </tr>\n",
       "  </tbody>\n",
       "</table>\n",
       "</div>"
      ],
      "text/plain": [
       "      COUNTY      YEARS AGE GROUP  NUMBER OF DEATHS  \\\n",
       "1    Alameda  2014-2016  All ages                58   \n",
       "2     Alpine  2014-2016  All ages                39   \n",
       "3     Amador  2014-2016  All ages                39   \n",
       "4      Butte  2014-2016  All ages                 7   \n",
       "5  Calaveras  2014-2016  All ages                39   \n",
       "\n",
       "   AGE-ADJUSTED MORTALITY RATE  NUMERIC AGE GROUP  NUMERIC YEARS  \n",
       "1                        11.20                  0              0  \n",
       "2                         8.22                  0              0  \n",
       "3                         8.22                  0              0  \n",
       "4                         8.22                  0              0  \n",
       "5                         8.22                  0              0  "
      ]
     },
     "execution_count": 20,
     "metadata": {},
     "output_type": "execute_result"
    }
   ],
   "source": [
    "# First row for each age group is summation of all deaths and overall age-adjusted mortality rate. We need to omit that\n",
    "# as it would create baisness.\n",
    "\n",
    "df_deaths1 = df_deaths[df_deaths['COUNTY'] != 'California']\n",
    "df_deaths1.head()"
   ]
  },
  {
   "cell_type": "markdown",
   "id": "e5bd3828",
   "metadata": {},
   "source": [
    "## Logistic and Linear Regression modeling(Classifier) on this dataset"
   ]
  },
  {
   "cell_type": "code",
   "execution_count": 60,
   "id": "c619b81e",
   "metadata": {},
   "outputs": [],
   "source": [
    "X = df_deaths1[['NUMBER OF DEATHS', 'AGE-ADJUSTED MORTALITY RATE', 'NUMERIC YEARS']]\n",
    "y = df_deaths1['NUMERIC AGE GROUP']"
   ]
  },
  {
   "cell_type": "code",
   "execution_count": 61,
   "id": "b29755d1",
   "metadata": {},
   "outputs": [],
   "source": [
    "#80-20 train test split\n",
    "X_train, X_test, y_train, y_test = train_test_split(X, y, test_size=0.2, random_state=42)"
   ]
  },
  {
   "cell_type": "code",
   "execution_count": 62,
   "id": "b539f77f",
   "metadata": {},
   "outputs": [],
   "source": [
    "#Standardizing this data\n",
    "sc = StandardScaler()\n",
    "X_train = sc.fit_transform(X_train)\n",
    "X_test = sc.transform(X_test)"
   ]
  },
  {
   "cell_type": "markdown",
   "id": "7d81d940",
   "metadata": {},
   "source": [
    "#### Logisitic Regression model"
   ]
  },
  {
   "cell_type": "code",
   "execution_count": 63,
   "id": "2cd39112",
   "metadata": {},
   "outputs": [
    {
     "name": "stdout",
     "output_type": "stream",
     "text": [
      "Accuracy: 0.8571428571428571\n"
     ]
    }
   ],
   "source": [
    "log_reg_model = LogisticRegression()\n",
    "\n",
    "# Train the model\n",
    "log_reg_model.fit(X_train, y_train)\n",
    "\n",
    "# Make predictions\n",
    "y_pred = log_reg_model.predict(X_test)\n",
    "\n",
    "# Calculate accuracy\n",
    "accuracy = accuracy_score(y_test, y_pred)\n",
    "print(\"Accuracy:\", accuracy)"
   ]
  },
  {
   "cell_type": "code",
   "execution_count": 64,
   "id": "51a84ba9",
   "metadata": {},
   "outputs": [
    {
     "data": {
      "image/png": "[encoded data removed]",
      "text/plain": [
       "<Figure size 640x480 with 1 Axes>"
      ]
     },
     "metadata": {},
     "output_type": "display_data"
    }
   ],
   "source": [
    "x_min, x_max = X_train[:, 0].min() - 1, X_train[:, 0].max() + 1\n",
    "y_min, y_max = X_train[:, 1].min() - 1, X_train[:, 1].max() + 1\n",
    "xx, yy = np.meshgrid(np.arange(x_min, x_max, 0.01),\n",
    "                     np.arange(y_min, y_max, 0.01))\n",
    "\n",
    "# Plot the decision boundary\n",
    "Z = log_reg_model.predict(np.c_[np.ones(xx.ravel().shape), xx.ravel(), yy.ravel()])\n",
    "Z = Z.reshape(xx.shape)\n",
    "\n",
    "plt.contourf(xx, yy, Z, alpha=0.8)\n",
    "plt.scatter(X_train[:, 0], X_train[:, 1], c=y_train , marker='o', edgecolors='k')\n",
    "plt.xlabel('Feature 1')\n",
    "plt.ylabel('Feature 2')\n",
    "plt.title('Logistic Regression Decision Boundary')\n",
    "plt.show()"
   ]
  },
  {
   "cell_type": "code",
   "execution_count": 26,
   "id": "182bbfad",
   "metadata": {
    "scrolled": true
   },
   "outputs": [
    {
     "name": "stdout",
     "output_type": "stream",
     "text": [
      "Logistic regression equation:\n",
      "p = 1 / (1 + e^(-(0.67 * X1 + 0.58 * X2 + 0.00 * X3 + 1.31)))\n"
     ]
    }
   ],
   "source": [
    "# Get the coefficients\n",
    "coefficients = log_reg_model.coef_[0]\n",
    "intercept = log_reg_model.intercept_[0]\n",
    "\n",
    "# Example equation for logistic regression\n",
    "print(\"Logistic regression equation:\")\n",
    "print(\"p = 1 / (1 + e^(-(\", end=\"\")\n",
    "for i, coef in enumerate(coefficients):\n",
    "    print(f\"{coef:.2f} * X{str(i+1)} + \", end=\"\")\n",
    "print(f\"{intercept:.2f})))\")"
   ]
  },
  {
   "cell_type": "markdown",
   "id": "76b5deb6",
   "metadata": {},
   "source": [
    "#### Linear Regression model"
   ]
  },
  {
   "cell_type": "code",
   "execution_count": 27,
   "id": "847985f4",
   "metadata": {},
   "outputs": [
    {
     "data": {
      "text/html": [
       "<style>#sk-container-id-1 {color: black;}#sk-container-id-1 pre{padding: 0;}#sk-container-id-1 div.sk-toggleable {background-color: white;}#sk-container-id-1 label.sk-toggleable__label {cursor: pointer;display: block;width: 100%;margin-bottom: 0;padding: 0.3em;box-sizing: border-box;text-align: center;}#sk-container-id-1 label.sk-toggleable__label-arrow:before {content: \"▸\";float: left;margin-right: 0.25em;color: #696969;}#sk-container-id-1 label.sk-toggleable__label-arrow:hover:before {color: black;}#sk-container-id-1 div.sk-estimator:hover label.sk-toggleable__label-arrow:before {color: black;}#sk-container-id-1 div.sk-toggleable__content {max-height: 0;max-width: 0;overflow: hidden;text-align: left;background-color: #f0f8ff;}#sk-container-id-1 div.sk-toggleable__content pre {margin: 0.2em;color: black;border-radius: 0.25em;background-color: #f0f8ff;}#sk-container-id-1 input.sk-toggleable__control:checked~div.sk-toggleable__content {max-height: 200px;max-width: 100%;overflow: auto;}#sk-container-id-1 input.sk-toggleable__control:checked~label.sk-toggleable__label-arrow:before {content: \"▾\";}#sk-container-id-1 div.sk-estimator input.sk-toggleable__control:checked~label.sk-toggleable__label {background-color: #d4ebff;}#sk-container-id-1 div.sk-label input.sk-toggleable__control:checked~label.sk-toggleable__label {background-color: #d4ebff;}#sk-container-id-1 input.sk-hidden--visually {border: 0;clip: rect(1px 1px 1px 1px);clip: rect(1px, 1px, 1px, 1px);height: 1px;margin: -1px;overflow: hidden;padding: 0;position: absolute;width: 1px;}#sk-container-id-1 div.sk-estimator {font-family: monospace;background-color: #f0f8ff;border: 1px dotted black;border-radius: 0.25em;box-sizing: border-box;margin-bottom: 0.5em;}#sk-container-id-1 div.sk-estimator:hover {background-color: #d4ebff;}#sk-container-id-1 div.sk-parallel-item::after {content: \"\";width: 100%;border-bottom: 1px solid gray;flex-grow: 1;}#sk-container-id-1 div.sk-label:hover label.sk-toggleable__label {background-color: #d4ebff;}#sk-container-id-1 div.sk-serial::before {content: \"\";position: absolute;border-left: 1px solid gray;box-sizing: border-box;top: 0;bottom: 0;left: 50%;z-index: 0;}#sk-container-id-1 div.sk-serial {display: flex;flex-direction: column;align-items: center;background-color: white;padding-right: 0.2em;padding-left: 0.2em;position: relative;}#sk-container-id-1 div.sk-item {position: relative;z-index: 1;}#sk-container-id-1 div.sk-parallel {display: flex;align-items: stretch;justify-content: center;background-color: white;position: relative;}#sk-container-id-1 div.sk-item::before, #sk-container-id-1 div.sk-parallel-item::before {content: \"\";position: absolute;border-left: 1px solid gray;box-sizing: border-box;top: 0;bottom: 0;left: 50%;z-index: -1;}#sk-container-id-1 div.sk-parallel-item {display: flex;flex-direction: column;z-index: 1;position: relative;background-color: white;}#sk-container-id-1 div.sk-parallel-item:first-child::after {align-self: flex-end;width: 50%;}#sk-container-id-1 div.sk-parallel-item:last-child::after {align-self: flex-start;width: 50%;}#sk-container-id-1 div.sk-parallel-item:only-child::after {width: 0;}#sk-container-id-1 div.sk-dashed-wrapped {border: 1px dashed gray;margin: 0 0.4em 0.5em 0.4em;box-sizing: border-box;padding-bottom: 0.4em;background-color: white;}#sk-container-id-1 div.sk-label label {font-family: monospace;font-weight: bold;display: inline-block;line-height: 1.2em;}#sk-container-id-1 div.sk-label-container {text-align: center;}#sk-container-id-1 div.sk-container {/* jupyter's `normalize.less` sets `[hidden] { display: none; }` but bootstrap.min.css set `[hidden] { display: none !important; }` so we also need the `!important` here to be able to override the default hidden behavior on the sphinx rendered scikit-learn.org. See: https://github.com/scikit-learn/scikit-learn/issues/21755 */display: inline-block !important;position: relative;}#sk-container-id-1 div.sk-text-repr-fallback {display: none;}</style><div id=\"sk-container-id-1\" class=\"sk-top-container\"><div class=\"sk-text-repr-fallback\"><pre>LinearRegression()</pre><b>In a Jupyter environment, please rerun this cell to show the HTML representation or trust the notebook. <br />On GitHub, the HTML representation is unable to render, please try loading this page with nbviewer.org.</b></div><div class=\"sk-container\" hidden><div class=\"sk-item\"><div class=\"sk-estimator sk-toggleable\"><input class=\"sk-toggleable__control sk-hidden--visually\" id=\"sk-estimator-id-1\" type=\"checkbox\" checked><label for=\"sk-estimator-id-1\" class=\"sk-toggleable__label sk-toggleable__label-arrow\">LinearRegression</label><div class=\"sk-toggleable__content\"><pre>LinearRegression()</pre></div></div></div></div></div>"
      ],
      "text/plain": [
       "LinearRegression()"
      ]
     },
     "execution_count": 27,
     "metadata": {},
     "output_type": "execute_result"
    }
   ],
   "source": [
    "# Train the linear regression model\n",
    "model = LinearRegression()\n",
    "model.fit(X_train, y_train)"
   ]
  },
  {
   "cell_type": "code",
   "execution_count": 28,
   "id": "e4a0b232",
   "metadata": {
    "scrolled": true
   },
   "outputs": [
    {
     "name": "stdout",
     "output_type": "stream",
     "text": [
      "Mean Squared Error: 0.6571428571428571\n",
      "Accuracy: 0.38571428571428573\n"
     ]
    }
   ],
   "source": [
    "# Make predictions\n",
    "y_pred = model.predict(X_test)\n",
    "y_round = np.round(y_pred).astype(int)\n",
    "\n",
    "# Evaluate the model\n",
    "mse = mean_squared_error(y_test, y_round)\n",
    "print(\"Mean Squared Error:\", mse)\n",
    "\n",
    "# Calculate accuracy\n",
    "accuracy = accuracy_score(y_test, y_round)\n",
    "print(\"Accuracy:\", accuracy)"
   ]
  },
  {
   "cell_type": "code",
   "execution_count": 29,
   "id": "1747dc5e",
   "metadata": {},
   "outputs": [
    {
     "data": {
      "image/png": "[encoded data removed]",
      "text/plain": [
       "<Figure size 1000x600 with 1 Axes>"
      ]
     },
     "metadata": {},
     "output_type": "display_data"
    },
    {
     "name": "stdout",
     "output_type": "stream",
     "text": [
      "Linear Equation:\n",
      "NUMBER OF DEATHS: -0.08993254052491405\n",
      "AGE-ADJUSTED MORTALITY RATE: 0.2202451029056293\n",
      "NUMERIC YEARS: 0.012063512991938046\n",
      "Intercept: 1.0179856115107915\n"
     ]
    }
   ],
   "source": [
    "# Visualize the data and regression line\n",
    "plt.figure(figsize=(10, 6))\n",
    "\n",
    "# Plotting the actual data points\n",
    "plt.scatter(X_test[:, 0], y_test, color='blue', label='Actual Data')\n",
    "\n",
    "# Sort the data points for plotting the regression line\n",
    "sort_indices = np.argsort(X_test[:, 0])\n",
    "X_test_sorted = X_test[sort_indices]\n",
    "y_pred_sorted = y_pred[sort_indices]\n",
    "\n",
    "# Plotting the regression line\n",
    "plt.plot(X_test_sorted[:, 0], y_pred_sorted, color='red', linewidth=2, label='Regression Line')\n",
    "\n",
    "plt.title('Linear Regression Model')\n",
    "plt.xlabel('Number of Deaths (Standardized)')\n",
    "plt.ylabel('Numeric Age Group')\n",
    "plt.legend()\n",
    "plt.grid(True)\n",
    "plt.show()\n",
    "\n",
    "# Print the coefficients (linear equation)\n",
    "print(\"Linear Equation:\")\n",
    "for i, feature in enumerate(X.columns):\n",
    "    print(f\"{feature}: {model.coef_[i]}\")\n",
    "print(f\"Intercept: {model.intercept_}\")"
   ]
  },
  {
   "cell_type": "code",
   "execution_count": 30,
   "id": "55b966ce",
   "metadata": {},
   "outputs": [
    {
     "name": "stdout",
     "output_type": "stream",
     "text": [
      "Linear Regression Equation: y = 1.02 + -0.09 * x1 + 0.22 * x2 + 0.01 * x3\n"
     ]
    }
   ],
   "source": [
    "coefficients = model.coef_\n",
    "intercept = model.intercept_\n",
    "\n",
    "# Print the equation\n",
    "equation = f'y = {intercept:.2f}'\n",
    "for i, coef in enumerate(coefficients):\n",
    "    equation += f' + {coef:.2f} * x{i+1}'\n",
    "print(\"Linear Regression Equation:\", equation)"
   ]
  },
  {
   "cell_type": "markdown",
   "id": "87a78279",
   "metadata": {},
   "source": [
    "## df_ed dataset"
   ]
  },
  {
   "cell_type": "code",
   "execution_count": 31,
   "id": "98746f16",
   "metadata": {},
   "outputs": [
    {
     "data": {
      "text/html": [
       "<div>\n",
       "<style scoped>\n",
       "    .dataframe tbody tr th:only-of-type {\n",
       "        vertical-align: middle;\n",
       "    }\n",
       "\n",
       "    .dataframe tbody tr th {\n",
       "        vertical-align: top;\n",
       "    }\n",
       "\n",
       "    .dataframe thead th {\n",
       "        text-align: right;\n",
       "    }\n",
       "</style>\n",
       "<table border=\"1\" class=\"dataframe\">\n",
       "  <thead>\n",
       "    <tr style=\"text-align: right;\">\n",
       "      <th></th>\n",
       "      <th>COUNTY</th>\n",
       "      <th>YEAR</th>\n",
       "      <th>STRATA</th>\n",
       "      <th>STRATA NAME</th>\n",
       "      <th>AGE GROUP</th>\n",
       "      <th>NUMBER OF ED VISITS</th>\n",
       "      <th>AGE-ADJUSTED ED VISIT RATE</th>\n",
       "      <th>COMMENT</th>\n",
       "    </tr>\n",
       "  </thead>\n",
       "  <tbody>\n",
       "    <tr>\n",
       "      <th>0</th>\n",
       "      <td>California</td>\n",
       "      <td>2015</td>\n",
       "      <td>Total population</td>\n",
       "      <td>All ages</td>\n",
       "      <td>All ages</td>\n",
       "      <td>191,904</td>\n",
       "      <td>50.4</td>\n",
       "      <td>NaN</td>\n",
       "    </tr>\n",
       "    <tr>\n",
       "      <th>1</th>\n",
       "      <td>Alameda</td>\n",
       "      <td>2015</td>\n",
       "      <td>Total population</td>\n",
       "      <td>All ages</td>\n",
       "      <td>All ages</td>\n",
       "      <td>9,939</td>\n",
       "      <td>64.3</td>\n",
       "      <td>NaN</td>\n",
       "    </tr>\n",
       "    <tr>\n",
       "      <th>2</th>\n",
       "      <td>Alpine</td>\n",
       "      <td>2015</td>\n",
       "      <td>Total population</td>\n",
       "      <td>All ages</td>\n",
       "      <td>All ages</td>\n",
       "      <td>0</td>\n",
       "      <td>0.0</td>\n",
       "      <td>NaN</td>\n",
       "    </tr>\n",
       "    <tr>\n",
       "      <th>3</th>\n",
       "      <td>Amador</td>\n",
       "      <td>2015</td>\n",
       "      <td>Total population</td>\n",
       "      <td>All ages</td>\n",
       "      <td>All ages</td>\n",
       "      <td>196</td>\n",
       "      <td>58.4</td>\n",
       "      <td>NaN</td>\n",
       "    </tr>\n",
       "    <tr>\n",
       "      <th>4</th>\n",
       "      <td>Butte</td>\n",
       "      <td>2015</td>\n",
       "      <td>Total population</td>\n",
       "      <td>All ages</td>\n",
       "      <td>All ages</td>\n",
       "      <td>1,044</td>\n",
       "      <td>50.2</td>\n",
       "      <td>NaN</td>\n",
       "    </tr>\n",
       "  </tbody>\n",
       "</table>\n",
       "</div>"
      ],
      "text/plain": [
       "       COUNTY  YEAR            STRATA STRATA NAME AGE GROUP  \\\n",
       "0  California  2015  Total population    All ages  All ages   \n",
       "1     Alameda  2015  Total population    All ages  All ages   \n",
       "2      Alpine  2015  Total population    All ages  All ages   \n",
       "3      Amador  2015  Total population    All ages  All ages   \n",
       "4       Butte  2015  Total population    All ages  All ages   \n",
       "\n",
       "  NUMBER OF ED VISITS  AGE-ADJUSTED ED VISIT RATE COMMENT  \n",
       "0             191,904                        50.4     NaN  \n",
       "1               9,939                        64.3     NaN  \n",
       "2                   0                         0.0     NaN  \n",
       "3                 196                        58.4     NaN  \n",
       "4               1,044                        50.2     NaN  "
      ]
     },
     "execution_count": 31,
     "metadata": {},
     "output_type": "execute_result"
    }
   ],
   "source": [
    "df_ed = pd.read_csv('asthma-emergency-department-visit-rates-by-county-2015_2020.csv', encoding='latin1')\n",
    "df_ed.head()"
   ]
  },
  {
   "cell_type": "code",
   "execution_count": 32,
   "id": "2e6b9859",
   "metadata": {},
   "outputs": [
    {
     "data": {
      "text/html": [
       "<div>\n",
       "<style scoped>\n",
       "    .dataframe tbody tr th:only-of-type {\n",
       "        vertical-align: middle;\n",
       "    }\n",
       "\n",
       "    .dataframe tbody tr th {\n",
       "        vertical-align: top;\n",
       "    }\n",
       "\n",
       "    .dataframe thead th {\n",
       "        text-align: right;\n",
       "    }\n",
       "</style>\n",
       "<table border=\"1\" class=\"dataframe\">\n",
       "  <thead>\n",
       "    <tr style=\"text-align: right;\">\n",
       "      <th></th>\n",
       "      <th>COUNTY</th>\n",
       "      <th>YEAR</th>\n",
       "      <th>AGE GROUP</th>\n",
       "      <th>NUMBER OF ED VISITS</th>\n",
       "      <th>AGE-ADJUSTED ED VISIT RATE</th>\n",
       "    </tr>\n",
       "  </thead>\n",
       "  <tbody>\n",
       "    <tr>\n",
       "      <th>0</th>\n",
       "      <td>California</td>\n",
       "      <td>2015</td>\n",
       "      <td>All ages</td>\n",
       "      <td>191,904</td>\n",
       "      <td>50.4</td>\n",
       "    </tr>\n",
       "    <tr>\n",
       "      <th>1</th>\n",
       "      <td>Alameda</td>\n",
       "      <td>2015</td>\n",
       "      <td>All ages</td>\n",
       "      <td>9,939</td>\n",
       "      <td>64.3</td>\n",
       "    </tr>\n",
       "    <tr>\n",
       "      <th>2</th>\n",
       "      <td>Alpine</td>\n",
       "      <td>2015</td>\n",
       "      <td>All ages</td>\n",
       "      <td>0</td>\n",
       "      <td>0.0</td>\n",
       "    </tr>\n",
       "    <tr>\n",
       "      <th>3</th>\n",
       "      <td>Amador</td>\n",
       "      <td>2015</td>\n",
       "      <td>All ages</td>\n",
       "      <td>196</td>\n",
       "      <td>58.4</td>\n",
       "    </tr>\n",
       "    <tr>\n",
       "      <th>4</th>\n",
       "      <td>Butte</td>\n",
       "      <td>2015</td>\n",
       "      <td>All ages</td>\n",
       "      <td>1,044</td>\n",
       "      <td>50.2</td>\n",
       "    </tr>\n",
       "    <tr>\n",
       "      <th>...</th>\n",
       "      <td>...</td>\n",
       "      <td>...</td>\n",
       "      <td>...</td>\n",
       "      <td>...</td>\n",
       "      <td>...</td>\n",
       "    </tr>\n",
       "    <tr>\n",
       "      <th>4479</th>\n",
       "      <td>Tulare</td>\n",
       "      <td>2020</td>\n",
       "      <td>All ages</td>\n",
       "      <td>NaN</td>\n",
       "      <td>NaN</td>\n",
       "    </tr>\n",
       "    <tr>\n",
       "      <th>4480</th>\n",
       "      <td>Tuolumne</td>\n",
       "      <td>2020</td>\n",
       "      <td>All ages</td>\n",
       "      <td>0</td>\n",
       "      <td>0.0</td>\n",
       "    </tr>\n",
       "    <tr>\n",
       "      <th>4481</th>\n",
       "      <td>Ventura</td>\n",
       "      <td>2020</td>\n",
       "      <td>All ages</td>\n",
       "      <td>14</td>\n",
       "      <td>8.7</td>\n",
       "    </tr>\n",
       "    <tr>\n",
       "      <th>4482</th>\n",
       "      <td>Yolo</td>\n",
       "      <td>2020</td>\n",
       "      <td>All ages</td>\n",
       "      <td>11</td>\n",
       "      <td>NaN</td>\n",
       "    </tr>\n",
       "    <tr>\n",
       "      <th>4483</th>\n",
       "      <td>Yuba</td>\n",
       "      <td>2020</td>\n",
       "      <td>All ages</td>\n",
       "      <td>NaN</td>\n",
       "      <td>NaN</td>\n",
       "    </tr>\n",
       "  </tbody>\n",
       "</table>\n",
       "<p>4484 rows × 5 columns</p>\n",
       "</div>"
      ],
      "text/plain": [
       "          COUNTY  YEAR AGE GROUP NUMBER OF ED VISITS  \\\n",
       "0     California  2015  All ages             191,904   \n",
       "1        Alameda  2015  All ages               9,939   \n",
       "2         Alpine  2015  All ages                   0   \n",
       "3         Amador  2015  All ages                 196   \n",
       "4          Butte  2015  All ages               1,044   \n",
       "...          ...   ...       ...                 ...   \n",
       "4479      Tulare  2020  All ages                 NaN   \n",
       "4480    Tuolumne  2020  All ages                   0   \n",
       "4481     Ventura  2020  All ages                  14   \n",
       "4482        Yolo  2020  All ages                  11   \n",
       "4483        Yuba  2020  All ages                 NaN   \n",
       "\n",
       "      AGE-ADJUSTED ED VISIT RATE  \n",
       "0                           50.4  \n",
       "1                           64.3  \n",
       "2                            0.0  \n",
       "3                           58.4  \n",
       "4                           50.2  \n",
       "...                          ...  \n",
       "4479                         NaN  \n",
       "4480                         0.0  \n",
       "4481                         8.7  \n",
       "4482                         NaN  \n",
       "4483                         NaN  \n",
       "\n",
       "[4484 rows x 5 columns]"
      ]
     },
     "execution_count": 32,
     "metadata": {},
     "output_type": "execute_result"
    }
   ],
   "source": [
    "# We dont want STRATA, STRATA NAME and COMMENT for analysis\n",
    "df_ed.drop(columns = ['STRATA','STRATA NAME','COMMENT'],inplace=True)\n",
    "df_ed"
   ]
  },
  {
   "cell_type": "code",
   "execution_count": 33,
   "id": "e03e08e2",
   "metadata": {},
   "outputs": [
    {
     "data": {
      "text/plain": [
       "COUNTY                         object\n",
       "YEAR                            int64\n",
       "AGE GROUP                      object\n",
       "NUMBER OF ED VISITS            object\n",
       "AGE-ADJUSTED ED VISIT RATE    float64\n",
       "dtype: object"
      ]
     },
     "execution_count": 33,
     "metadata": {},
     "output_type": "execute_result"
    }
   ],
   "source": [
    "df_ed.dtypes #We want Number of ED visits as integers"
   ]
  },
  {
   "cell_type": "code",
   "execution_count": 34,
   "id": "e080a7a5",
   "metadata": {},
   "outputs": [
    {
     "data": {
      "text/plain": [
       "COUNTY                          0\n",
       "YEAR                            0\n",
       "AGE GROUP                       0\n",
       "NUMBER OF ED VISITS           681\n",
       "AGE-ADJUSTED ED VISIT RATE    716\n",
       "dtype: int64"
      ]
     },
     "execution_count": 34,
     "metadata": {},
     "output_type": "execute_result"
    }
   ],
   "source": [
    "df_ed.isna().sum() #We want to get rid of these missing values. Since its around 15% of the data and we want to avoid\n",
    "# what happenend last time, this time we will drop it"
   ]
  },
  {
   "cell_type": "code",
   "execution_count": 35,
   "id": "031ac42c",
   "metadata": {},
   "outputs": [],
   "source": [
    "df_ed.dropna(inplace = True)"
   ]
  },
  {
   "cell_type": "code",
   "execution_count": 36,
   "id": "48174794",
   "metadata": {},
   "outputs": [
    {
     "data": {
      "text/plain": [
       "COUNTY                        0\n",
       "YEAR                          0\n",
       "AGE GROUP                     0\n",
       "NUMBER OF ED VISITS           0\n",
       "AGE-ADJUSTED ED VISIT RATE    0\n",
       "dtype: int64"
      ]
     },
     "execution_count": 36,
     "metadata": {},
     "output_type": "execute_result"
    }
   ],
   "source": [
    "df_ed.isna().sum() #The null values are removed. Now lets change the data types"
   ]
  },
  {
   "cell_type": "code",
   "execution_count": 37,
   "id": "d1b23163",
   "metadata": {},
   "outputs": [],
   "source": [
    "df_ed['NUMBER OF ED VISITS'] = df_ed['NUMBER OF ED VISITS'].str.replace(',','').astype(int)"
   ]
  },
  {
   "cell_type": "code",
   "execution_count": 38,
   "id": "a33041bd",
   "metadata": {},
   "outputs": [
    {
     "data": {
      "text/plain": [
       "COUNTY                         object\n",
       "YEAR                            int64\n",
       "AGE GROUP                      object\n",
       "NUMBER OF ED VISITS             int32\n",
       "AGE-ADJUSTED ED VISIT RATE    float64\n",
       "dtype: object"
      ]
     },
     "execution_count": 38,
     "metadata": {},
     "output_type": "execute_result"
    }
   ],
   "source": [
    "df_ed.dtypes"
   ]
  },
  {
   "cell_type": "code",
   "execution_count": 39,
   "id": "70596458",
   "metadata": {},
   "outputs": [
    {
     "data": {
      "text/plain": [
       "array(['All ages', '0\\x9617 years', '18+ years', '0\\x964 years',\n",
       "       '5\\x9617 years', '18\\x9664 years', '65+ years'], dtype=object)"
      ]
     },
     "execution_count": 39,
     "metadata": {},
     "output_type": "execute_result"
    }
   ],
   "source": [
    "df_ed['AGE GROUP'].unique()"
   ]
  },
  {
   "cell_type": "code",
   "execution_count": 40,
   "id": "852b4395",
   "metadata": {},
   "outputs": [],
   "source": [
    "df_ed['AGE GROUP'] = df_ed['AGE GROUP'].str.replace('\\x96','-')"
   ]
  },
  {
   "cell_type": "code",
   "execution_count": 41,
   "id": "8605a9a9",
   "metadata": {},
   "outputs": [
    {
     "data": {
      "text/plain": [
       "array(['All ages', '0-17 years', '18+ years', '0-4 years', '5-17 years',\n",
       "       '18-64 years', '65+ years'], dtype=object)"
      ]
     },
     "execution_count": 41,
     "metadata": {},
     "output_type": "execute_result"
    }
   ],
   "source": [
    "df_ed['AGE GROUP'].unique()"
   ]
  },
  {
   "cell_type": "code",
   "execution_count": 42,
   "id": "63666f8d",
   "metadata": {},
   "outputs": [],
   "source": [
    "df_ed = df_ed[df_ed['NUMBER OF ED VISITS'] != 0]"
   ]
  },
  {
   "cell_type": "code",
   "execution_count": 43,
   "id": "20619dcc",
   "metadata": {},
   "outputs": [
    {
     "data": {
      "text/html": [
       "<div>\n",
       "<style scoped>\n",
       "    .dataframe tbody tr th:only-of-type {\n",
       "        vertical-align: middle;\n",
       "    }\n",
       "\n",
       "    .dataframe tbody tr th {\n",
       "        vertical-align: top;\n",
       "    }\n",
       "\n",
       "    .dataframe thead th {\n",
       "        text-align: right;\n",
       "    }\n",
       "</style>\n",
       "<table border=\"1\" class=\"dataframe\">\n",
       "  <thead>\n",
       "    <tr style=\"text-align: right;\">\n",
       "      <th></th>\n",
       "      <th>COUNTY</th>\n",
       "      <th>YEAR</th>\n",
       "      <th>AGE GROUP</th>\n",
       "      <th>NUMBER OF ED VISITS</th>\n",
       "      <th>AGE-ADJUSTED ED VISIT RATE</th>\n",
       "    </tr>\n",
       "  </thead>\n",
       "  <tbody>\n",
       "    <tr>\n",
       "      <th>0</th>\n",
       "      <td>California</td>\n",
       "      <td>2015</td>\n",
       "      <td>All ages</td>\n",
       "      <td>191904</td>\n",
       "      <td>50.4</td>\n",
       "    </tr>\n",
       "    <tr>\n",
       "      <th>1</th>\n",
       "      <td>Alameda</td>\n",
       "      <td>2015</td>\n",
       "      <td>All ages</td>\n",
       "      <td>9939</td>\n",
       "      <td>64.3</td>\n",
       "    </tr>\n",
       "    <tr>\n",
       "      <th>3</th>\n",
       "      <td>Amador</td>\n",
       "      <td>2015</td>\n",
       "      <td>All ages</td>\n",
       "      <td>196</td>\n",
       "      <td>58.4</td>\n",
       "    </tr>\n",
       "    <tr>\n",
       "      <th>4</th>\n",
       "      <td>Butte</td>\n",
       "      <td>2015</td>\n",
       "      <td>All ages</td>\n",
       "      <td>1044</td>\n",
       "      <td>50.2</td>\n",
       "    </tr>\n",
       "    <tr>\n",
       "      <th>5</th>\n",
       "      <td>Calaveras</td>\n",
       "      <td>2015</td>\n",
       "      <td>All ages</td>\n",
       "      <td>185</td>\n",
       "      <td>48.0</td>\n",
       "    </tr>\n",
       "  </tbody>\n",
       "</table>\n",
       "</div>"
      ],
      "text/plain": [
       "       COUNTY  YEAR AGE GROUP  NUMBER OF ED VISITS  AGE-ADJUSTED ED VISIT RATE\n",
       "0  California  2015  All ages               191904                        50.4\n",
       "1     Alameda  2015  All ages                 9939                        64.3\n",
       "3      Amador  2015  All ages                  196                        58.4\n",
       "4       Butte  2015  All ages                 1044                        50.2\n",
       "5   Calaveras  2015  All ages                  185                        48.0"
      ]
     },
     "execution_count": 43,
     "metadata": {},
     "output_type": "execute_result"
    }
   ],
   "source": [
    "df_ed.head()"
   ]
  },
  {
   "cell_type": "code",
   "execution_count": 44,
   "id": "7cb3a3f1",
   "metadata": {},
   "outputs": [
    {
     "data": {
      "text/html": [
       "<div>\n",
       "<style scoped>\n",
       "    .dataframe tbody tr th:only-of-type {\n",
       "        vertical-align: middle;\n",
       "    }\n",
       "\n",
       "    .dataframe tbody tr th {\n",
       "        vertical-align: top;\n",
       "    }\n",
       "\n",
       "    .dataframe thead th {\n",
       "        text-align: right;\n",
       "    }\n",
       "</style>\n",
       "<table border=\"1\" class=\"dataframe\">\n",
       "  <thead>\n",
       "    <tr style=\"text-align: right;\">\n",
       "      <th></th>\n",
       "      <th>YEAR</th>\n",
       "      <th>NUMBER OF ED VISITS</th>\n",
       "      <th>AGE-ADJUSTED ED VISIT RATE</th>\n",
       "    </tr>\n",
       "  </thead>\n",
       "  <tbody>\n",
       "    <tr>\n",
       "      <th>count</th>\n",
       "      <td>3489.000000</td>\n",
       "      <td>3489.000000</td>\n",
       "      <td>3489.000000</td>\n",
       "    </tr>\n",
       "    <tr>\n",
       "      <th>mean</th>\n",
       "      <td>2017.505589</td>\n",
       "      <td>2194.580396</td>\n",
       "      <td>55.513414</td>\n",
       "    </tr>\n",
       "    <tr>\n",
       "      <th>std</th>\n",
       "      <td>1.704532</td>\n",
       "      <td>10483.701598</td>\n",
       "      <td>74.511910</td>\n",
       "    </tr>\n",
       "    <tr>\n",
       "      <th>min</th>\n",
       "      <td>2015.000000</td>\n",
       "      <td>12.000000</td>\n",
       "      <td>5.000000</td>\n",
       "    </tr>\n",
       "    <tr>\n",
       "      <th>25%</th>\n",
       "      <td>2016.000000</td>\n",
       "      <td>62.000000</td>\n",
       "      <td>28.100000</td>\n",
       "    </tr>\n",
       "    <tr>\n",
       "      <th>50%</th>\n",
       "      <td>2018.000000</td>\n",
       "      <td>259.000000</td>\n",
       "      <td>42.900000</td>\n",
       "    </tr>\n",
       "    <tr>\n",
       "      <th>75%</th>\n",
       "      <td>2019.000000</td>\n",
       "      <td>993.000000</td>\n",
       "      <td>64.500000</td>\n",
       "    </tr>\n",
       "    <tr>\n",
       "      <th>max</th>\n",
       "      <td>2020.000000</td>\n",
       "      <td>191904.000000</td>\n",
       "      <td>3531.000000</td>\n",
       "    </tr>\n",
       "  </tbody>\n",
       "</table>\n",
       "</div>"
      ],
      "text/plain": [
       "              YEAR  NUMBER OF ED VISITS  AGE-ADJUSTED ED VISIT RATE\n",
       "count  3489.000000          3489.000000                 3489.000000\n",
       "mean   2017.505589          2194.580396                   55.513414\n",
       "std       1.704532         10483.701598                   74.511910\n",
       "min    2015.000000            12.000000                    5.000000\n",
       "25%    2016.000000            62.000000                   28.100000\n",
       "50%    2018.000000           259.000000                   42.900000\n",
       "75%    2019.000000           993.000000                   64.500000\n",
       "max    2020.000000        191904.000000                 3531.000000"
      ]
     },
     "execution_count": 44,
     "metadata": {},
     "output_type": "execute_result"
    }
   ],
   "source": [
    "df_ed.describe()"
   ]
  },
  {
   "cell_type": "code",
   "execution_count": 45,
   "id": "4fdaf4f6",
   "metadata": {},
   "outputs": [
    {
     "data": {
      "text/plain": [
       "array([2015, 2016, 2017, 2018, 2019, 2020], dtype=int64)"
      ]
     },
     "execution_count": 45,
     "metadata": {},
     "output_type": "execute_result"
    }
   ],
   "source": [
    "df_ed['YEAR'].unique()"
   ]
  },
  {
   "cell_type": "code",
   "execution_count": 46,
   "id": "a7e2477e",
   "metadata": {},
   "outputs": [
    {
     "data": {
      "text/plain": [
       "array(['All ages', '0-17 years', '18+ years', '0-4 years', '5-17 years',\n",
       "       '18-64 years', '65+ years'], dtype=object)"
      ]
     },
     "execution_count": 46,
     "metadata": {},
     "output_type": "execute_result"
    }
   ],
   "source": [
    "df_ed['AGE GROUP'].unique()"
   ]
  },
  {
   "cell_type": "code",
   "execution_count": 47,
   "id": "d01f1ad9",
   "metadata": {},
   "outputs": [
    {
     "name": "stderr",
     "output_type": "stream",
     "text": [
      "C:\\Users\\kalpm\\AppData\\Local\\Temp\\ipykernel_47596\\694938273.py:4: SettingWithCopyWarning: \n",
      "A value is trying to be set on a copy of a slice from a DataFrame.\n",
      "Try using .loc[row_indexer,col_indexer] = value instead\n",
      "\n",
      "See the caveats in the documentation: https://pandas.pydata.org/pandas-docs/stable/user_guide/indexing.html#returning-a-view-versus-a-copy\n",
      "  df_ed['NUMERIC YEAR'] = df_ed['YEAR'].map(year_mapping)\n",
      "C:\\Users\\kalpm\\AppData\\Local\\Temp\\ipykernel_47596\\694938273.py:10: SettingWithCopyWarning: \n",
      "A value is trying to be set on a copy of a slice from a DataFrame.\n",
      "Try using .loc[row_indexer,col_indexer] = value instead\n",
      "\n",
      "See the caveats in the documentation: https://pandas.pydata.org/pandas-docs/stable/user_guide/indexing.html#returning-a-view-versus-a-copy\n",
      "  df_ed['NUMERIC AGE GROUP'] = df_ed['AGE GROUP'].map(age_group_mapping)\n"
     ]
    },
    {
     "data": {
      "text/html": [
       "<div>\n",
       "<style scoped>\n",
       "    .dataframe tbody tr th:only-of-type {\n",
       "        vertical-align: middle;\n",
       "    }\n",
       "\n",
       "    .dataframe tbody tr th {\n",
       "        vertical-align: top;\n",
       "    }\n",
       "\n",
       "    .dataframe thead th {\n",
       "        text-align: right;\n",
       "    }\n",
       "</style>\n",
       "<table border=\"1\" class=\"dataframe\">\n",
       "  <thead>\n",
       "    <tr style=\"text-align: right;\">\n",
       "      <th></th>\n",
       "      <th>COUNTY</th>\n",
       "      <th>YEAR</th>\n",
       "      <th>AGE GROUP</th>\n",
       "      <th>NUMBER OF ED VISITS</th>\n",
       "      <th>AGE-ADJUSTED ED VISIT RATE</th>\n",
       "      <th>NUMERIC YEAR</th>\n",
       "      <th>NUMERIC AGE GROUP</th>\n",
       "    </tr>\n",
       "  </thead>\n",
       "  <tbody>\n",
       "    <tr>\n",
       "      <th>0</th>\n",
       "      <td>California</td>\n",
       "      <td>2015</td>\n",
       "      <td>All ages</td>\n",
       "      <td>191904</td>\n",
       "      <td>50.4</td>\n",
       "      <td>0</td>\n",
       "      <td>0</td>\n",
       "    </tr>\n",
       "    <tr>\n",
       "      <th>1</th>\n",
       "      <td>Alameda</td>\n",
       "      <td>2015</td>\n",
       "      <td>All ages</td>\n",
       "      <td>9939</td>\n",
       "      <td>64.3</td>\n",
       "      <td>0</td>\n",
       "      <td>0</td>\n",
       "    </tr>\n",
       "    <tr>\n",
       "      <th>3</th>\n",
       "      <td>Amador</td>\n",
       "      <td>2015</td>\n",
       "      <td>All ages</td>\n",
       "      <td>196</td>\n",
       "      <td>58.4</td>\n",
       "      <td>0</td>\n",
       "      <td>0</td>\n",
       "    </tr>\n",
       "    <tr>\n",
       "      <th>4</th>\n",
       "      <td>Butte</td>\n",
       "      <td>2015</td>\n",
       "      <td>All ages</td>\n",
       "      <td>1044</td>\n",
       "      <td>50.2</td>\n",
       "      <td>0</td>\n",
       "      <td>0</td>\n",
       "    </tr>\n",
       "    <tr>\n",
       "      <th>5</th>\n",
       "      <td>Calaveras</td>\n",
       "      <td>2015</td>\n",
       "      <td>All ages</td>\n",
       "      <td>185</td>\n",
       "      <td>48.0</td>\n",
       "      <td>0</td>\n",
       "      <td>0</td>\n",
       "    </tr>\n",
       "  </tbody>\n",
       "</table>\n",
       "</div>"
      ],
      "text/plain": [
       "       COUNTY  YEAR AGE GROUP  NUMBER OF ED VISITS  \\\n",
       "0  California  2015  All ages               191904   \n",
       "1     Alameda  2015  All ages                 9939   \n",
       "3      Amador  2015  All ages                  196   \n",
       "4       Butte  2015  All ages                 1044   \n",
       "5   Calaveras  2015  All ages                  185   \n",
       "\n",
       "   AGE-ADJUSTED ED VISIT RATE  NUMERIC YEAR  NUMERIC AGE GROUP  \n",
       "0                        50.4             0                  0  \n",
       "1                        64.3             0                  0  \n",
       "3                        58.4             0                  0  \n",
       "4                        50.2             0                  0  \n",
       "5                        48.0             0                  0  "
      ]
     },
     "execution_count": 47,
     "metadata": {},
     "output_type": "execute_result"
    }
   ],
   "source": [
    "year_mapping = {2015: 0, 2016: 1, 2017: 2, 2018: 3, 2019: 4, 2020: 5}\n",
    "\n",
    "# Apply mapping to the 'YEARS' column\n",
    "df_ed['NUMERIC YEAR'] = df_ed['YEAR'].map(year_mapping)\n",
    "\n",
    "age_group_mapping = {'All ages': 0, '0-17 years': 1, '18+ years': 2, '0-4 years': 3, '5-17 years': 4,\n",
    "       '18-64 years': 5, '65+ years': 6}\n",
    "\n",
    "# Apply mapping to the 'AGE GROUP' column\n",
    "df_ed['NUMERIC AGE GROUP'] = df_ed['AGE GROUP'].map(age_group_mapping)\n",
    "\n",
    "df_ed.head()"
   ]
  },
  {
   "cell_type": "code",
   "execution_count": 48,
   "id": "476c2748",
   "metadata": {},
   "outputs": [
    {
     "data": {
      "text/html": [
       "<div>\n",
       "<style scoped>\n",
       "    .dataframe tbody tr th:only-of-type {\n",
       "        vertical-align: middle;\n",
       "    }\n",
       "\n",
       "    .dataframe tbody tr th {\n",
       "        vertical-align: top;\n",
       "    }\n",
       "\n",
       "    .dataframe thead th {\n",
       "        text-align: right;\n",
       "    }\n",
       "</style>\n",
       "<table border=\"1\" class=\"dataframe\">\n",
       "  <thead>\n",
       "    <tr style=\"text-align: right;\">\n",
       "      <th></th>\n",
       "      <th>COUNTY</th>\n",
       "      <th>YEAR</th>\n",
       "      <th>AGE GROUP</th>\n",
       "      <th>NUMBER OF ED VISITS</th>\n",
       "      <th>AGE-ADJUSTED ED VISIT RATE</th>\n",
       "      <th>NUMERIC YEAR</th>\n",
       "      <th>NUMERIC AGE GROUP</th>\n",
       "    </tr>\n",
       "  </thead>\n",
       "  <tbody>\n",
       "    <tr>\n",
       "      <th>1</th>\n",
       "      <td>Alameda</td>\n",
       "      <td>2015</td>\n",
       "      <td>All ages</td>\n",
       "      <td>9939</td>\n",
       "      <td>64.3</td>\n",
       "      <td>0</td>\n",
       "      <td>0</td>\n",
       "    </tr>\n",
       "    <tr>\n",
       "      <th>3</th>\n",
       "      <td>Amador</td>\n",
       "      <td>2015</td>\n",
       "      <td>All ages</td>\n",
       "      <td>196</td>\n",
       "      <td>58.4</td>\n",
       "      <td>0</td>\n",
       "      <td>0</td>\n",
       "    </tr>\n",
       "    <tr>\n",
       "      <th>4</th>\n",
       "      <td>Butte</td>\n",
       "      <td>2015</td>\n",
       "      <td>All ages</td>\n",
       "      <td>1044</td>\n",
       "      <td>50.2</td>\n",
       "      <td>0</td>\n",
       "      <td>0</td>\n",
       "    </tr>\n",
       "    <tr>\n",
       "      <th>5</th>\n",
       "      <td>Calaveras</td>\n",
       "      <td>2015</td>\n",
       "      <td>All ages</td>\n",
       "      <td>185</td>\n",
       "      <td>48.0</td>\n",
       "      <td>0</td>\n",
       "      <td>0</td>\n",
       "    </tr>\n",
       "    <tr>\n",
       "      <th>6</th>\n",
       "      <td>Colusa</td>\n",
       "      <td>2015</td>\n",
       "      <td>All ages</td>\n",
       "      <td>97</td>\n",
       "      <td>41.4</td>\n",
       "      <td>0</td>\n",
       "      <td>0</td>\n",
       "    </tr>\n",
       "  </tbody>\n",
       "</table>\n",
       "</div>"
      ],
      "text/plain": [
       "      COUNTY  YEAR AGE GROUP  NUMBER OF ED VISITS  AGE-ADJUSTED ED VISIT RATE  \\\n",
       "1    Alameda  2015  All ages                 9939                        64.3   \n",
       "3     Amador  2015  All ages                  196                        58.4   \n",
       "4      Butte  2015  All ages                 1044                        50.2   \n",
       "5  Calaveras  2015  All ages                  185                        48.0   \n",
       "6     Colusa  2015  All ages                   97                        41.4   \n",
       "\n",
       "   NUMERIC YEAR  NUMERIC AGE GROUP  \n",
       "1             0                  0  \n",
       "3             0                  0  \n",
       "4             0                  0  \n",
       "5             0                  0  \n",
       "6             0                  0  "
      ]
     },
     "execution_count": 48,
     "metadata": {},
     "output_type": "execute_result"
    }
   ],
   "source": [
    "df_ed1 = df_ed[df_ed['COUNTY'] != 'California']\n",
    "df_ed1.head()"
   ]
  },
  {
   "cell_type": "code",
   "execution_count": 49,
   "id": "31d00a92",
   "metadata": {
    "scrolled": false
   },
   "outputs": [
    {
     "data": {
      "text/html": [
       "<div>\n",
       "<style scoped>\n",
       "    .dataframe tbody tr th:only-of-type {\n",
       "        vertical-align: middle;\n",
       "    }\n",
       "\n",
       "    .dataframe tbody tr th {\n",
       "        vertical-align: top;\n",
       "    }\n",
       "\n",
       "    .dataframe thead th {\n",
       "        text-align: right;\n",
       "    }\n",
       "</style>\n",
       "<table border=\"1\" class=\"dataframe\">\n",
       "  <thead>\n",
       "    <tr style=\"text-align: right;\">\n",
       "      <th></th>\n",
       "      <th>YEAR</th>\n",
       "      <th>NUMBER OF ED VISITS</th>\n",
       "      <th>AGE-ADJUSTED ED VISIT RATE</th>\n",
       "      <th>NUMERIC YEAR</th>\n",
       "      <th>NUMERIC AGE GROUP</th>\n",
       "    </tr>\n",
       "  </thead>\n",
       "  <tbody>\n",
       "    <tr>\n",
       "      <th>count</th>\n",
       "      <td>3413.000000</td>\n",
       "      <td>3413.000000</td>\n",
       "      <td>3413.000000</td>\n",
       "      <td>3413.000000</td>\n",
       "      <td>3413.000000</td>\n",
       "    </tr>\n",
       "    <tr>\n",
       "      <th>mean</th>\n",
       "      <td>2017.503369</td>\n",
       "      <td>1117.126282</td>\n",
       "      <td>55.603076</td>\n",
       "      <td>2.503369</td>\n",
       "      <td>1.886610</td>\n",
       "    </tr>\n",
       "    <tr>\n",
       "      <th>std</th>\n",
       "      <td>1.704006</td>\n",
       "      <td>3170.231469</td>\n",
       "      <td>75.130637</td>\n",
       "      <td>1.704006</td>\n",
       "      <td>2.132284</td>\n",
       "    </tr>\n",
       "    <tr>\n",
       "      <th>min</th>\n",
       "      <td>2015.000000</td>\n",
       "      <td>12.000000</td>\n",
       "      <td>5.000000</td>\n",
       "      <td>0.000000</td>\n",
       "      <td>0.000000</td>\n",
       "    </tr>\n",
       "    <tr>\n",
       "      <th>25%</th>\n",
       "      <td>2016.000000</td>\n",
       "      <td>61.000000</td>\n",
       "      <td>28.100000</td>\n",
       "      <td>1.000000</td>\n",
       "      <td>0.000000</td>\n",
       "    </tr>\n",
       "    <tr>\n",
       "      <th>50%</th>\n",
       "      <td>2018.000000</td>\n",
       "      <td>233.000000</td>\n",
       "      <td>43.000000</td>\n",
       "      <td>3.000000</td>\n",
       "      <td>1.000000</td>\n",
       "    </tr>\n",
       "    <tr>\n",
       "      <th>75%</th>\n",
       "      <td>2019.000000</td>\n",
       "      <td>907.000000</td>\n",
       "      <td>64.500000</td>\n",
       "      <td>4.000000</td>\n",
       "      <td>4.000000</td>\n",
       "    </tr>\n",
       "    <tr>\n",
       "      <th>max</th>\n",
       "      <td>2020.000000</td>\n",
       "      <td>52227.000000</td>\n",
       "      <td>3531.000000</td>\n",
       "      <td>5.000000</td>\n",
       "      <td>6.000000</td>\n",
       "    </tr>\n",
       "  </tbody>\n",
       "</table>\n",
       "</div>"
      ],
      "text/plain": [
       "              YEAR  NUMBER OF ED VISITS  AGE-ADJUSTED ED VISIT RATE  \\\n",
       "count  3413.000000          3413.000000                 3413.000000   \n",
       "mean   2017.503369          1117.126282                   55.603076   \n",
       "std       1.704006          3170.231469                   75.130637   \n",
       "min    2015.000000            12.000000                    5.000000   \n",
       "25%    2016.000000            61.000000                   28.100000   \n",
       "50%    2018.000000           233.000000                   43.000000   \n",
       "75%    2019.000000           907.000000                   64.500000   \n",
       "max    2020.000000         52227.000000                 3531.000000   \n",
       "\n",
       "       NUMERIC YEAR  NUMERIC AGE GROUP  \n",
       "count   3413.000000        3413.000000  \n",
       "mean       2.503369           1.886610  \n",
       "std        1.704006           2.132284  \n",
       "min        0.000000           0.000000  \n",
       "25%        1.000000           0.000000  \n",
       "50%        3.000000           1.000000  \n",
       "75%        4.000000           4.000000  \n",
       "max        5.000000           6.000000  "
      ]
     },
     "execution_count": 49,
     "metadata": {},
     "output_type": "execute_result"
    }
   ],
   "source": [
    "df_ed1.describe()"
   ]
  },
  {
   "cell_type": "markdown",
   "id": "fa78a78b",
   "metadata": {},
   "source": [
    "### Logistic and Linear Regression Modeling(Classifier) implementation on this dataset"
   ]
  },
  {
   "cell_type": "markdown",
   "id": "458ccd3c",
   "metadata": {},
   "source": [
    "#### Logistic Regression Modeling"
   ]
  },
  {
   "cell_type": "code",
   "execution_count": 66,
   "id": "f1a0350d",
   "metadata": {},
   "outputs": [],
   "source": [
    "X = df_ed1[['NUMBER OF ED VISITS', 'AGE-ADJUSTED ED VISIT RATE','NUMERIC YEAR']]\n",
    "y = df_ed1['NUMERIC AGE GROUP'] #target\n",
    "\n",
    "# 80-20 split\n",
    "X_train, X_test, y_train, y_test = train_test_split(X, y, test_size=0.2, random_state=42)"
   ]
  },
  {
   "cell_type": "code",
   "execution_count": 67,
   "id": "39f57802",
   "metadata": {},
   "outputs": [],
   "source": [
    "#Standardizing this data\n",
    "sc = StandardScaler()\n",
    "X_train = sc.fit_transform(X_train)\n",
    "X_test = sc.transform(X_test)"
   ]
  },
  {
   "cell_type": "code",
   "execution_count": 68,
   "id": "55498422",
   "metadata": {},
   "outputs": [
    {
     "name": "stdout",
     "output_type": "stream",
     "text": [
      "Accuracy: 0.43191800878477304\n"
     ]
    }
   ],
   "source": [
    "#Training the Logisitic Regression model\n",
    "log_reg_model = LogisticRegression()\n",
    "\n",
    "# Train the model on training dataset\n",
    "log_reg_model.fit(X_train, y_train)\n",
    "\n",
    "# Make predictions\n",
    "y_pred = log_reg_model.predict(X_test)\n",
    "\n",
    "# Calculate accuracy\n",
    "accuracy = accuracy_score(y_test, y_pred)\n",
    "print(\"Accuracy:\", accuracy)"
   ]
  },
  {
   "cell_type": "code",
   "execution_count": 69,
   "id": "733f0650",
   "metadata": {},
   "outputs": [
    {
     "data": {
      "image/png": "[encoded data removed]",
      "text/plain": [
       "<Figure size 640x480 with 1 Axes>"
      ]
     },
     "metadata": {},
     "output_type": "display_data"
    }
   ],
   "source": [
    "x_min, x_max = X_train[:, 0].min() - 1, X_train[:, 0].max() + 1\n",
    "y_min, y_max = X_train[:, 1].min() - 1, X_train[:, 1].max() + 1\n",
    "xx, yy = np.meshgrid(np.arange(x_min, x_max, 0.01),\n",
    "                     np.arange(y_min, y_max, 0.01))\n",
    "\n",
    "# Plot the decision boundary\n",
    "Z = log_reg_model.predict(np.c_[np.ones(xx.ravel().shape), xx.ravel(), yy.ravel()])\n",
    "Z = Z.reshape(xx.shape)\n",
    "\n",
    "plt.contourf(xx, yy, Z, alpha=0.8)\n",
    "plt.scatter(X_train[:, 0], X_train[:, 1], c=y_train , marker='o', edgecolors='k')\n",
    "plt.xlabel('Feature 1')\n",
    "plt.ylabel('Feature 2')\n",
    "plt.title('Logistic Regression Decision Boundary')\n",
    "plt.show()"
   ]
  },
  {
   "cell_type": "code",
   "execution_count": 70,
   "id": "f08576a1",
   "metadata": {},
   "outputs": [
    {
     "name": "stdout",
     "output_type": "stream",
     "text": [
      "Logistic regression equation:\n",
      "p = 1 / (1 + e^(-(0.45 * X1 + 1.69 * X2 + 0.20 * X3 + 1.81)))\n"
     ]
    }
   ],
   "source": [
    "# Get the coefficients\n",
    "coefficients = log_reg_model.coef_[0]\n",
    "intercept = log_reg_model.intercept_[0]\n",
    "\n",
    "# Equation for logistic regression\n",
    "print(\"Logistic regression equation:\")\n",
    "print(\"p = 1 / (1 + e^(-(\", end=\"\")\n",
    "for i, coef in enumerate(coefficients):\n",
    "    print(f\"{coef:.2f} * X{str(i+1)} + \", end=\"\")\n",
    "print(f\"{intercept:.2f})))\")"
   ]
  },
  {
   "cell_type": "markdown",
   "id": "863a4e58",
   "metadata": {},
   "source": [
    "#### Linear Regression modeling"
   ]
  },
  {
   "cell_type": "code",
   "execution_count": 71,
   "id": "48285d4c",
   "metadata": {},
   "outputs": [
    {
     "data": {
      "text/html": [
       "<style>#sk-container-id-3 {color: black;}#sk-container-id-3 pre{padding: 0;}#sk-container-id-3 div.sk-toggleable {background-color: white;}#sk-container-id-3 label.sk-toggleable__label {cursor: pointer;display: block;width: 100%;margin-bottom: 0;padding: 0.3em;box-sizing: border-box;text-align: center;}#sk-container-id-3 label.sk-toggleable__label-arrow:before {content: \"▸\";float: left;margin-right: 0.25em;color: #696969;}#sk-container-id-3 label.sk-toggleable__label-arrow:hover:before {color: black;}#sk-container-id-3 div.sk-estimator:hover label.sk-toggleable__label-arrow:before {color: black;}#sk-container-id-3 div.sk-toggleable__content {max-height: 0;max-width: 0;overflow: hidden;text-align: left;background-color: #f0f8ff;}#sk-container-id-3 div.sk-toggleable__content pre {margin: 0.2em;color: black;border-radius: 0.25em;background-color: #f0f8ff;}#sk-container-id-3 input.sk-toggleable__control:checked~div.sk-toggleable__content {max-height: 200px;max-width: 100%;overflow: auto;}#sk-container-id-3 input.sk-toggleable__control:checked~label.sk-toggleable__label-arrow:before {content: \"▾\";}#sk-container-id-3 div.sk-estimator input.sk-toggleable__control:checked~label.sk-toggleable__label {background-color: #d4ebff;}#sk-container-id-3 div.sk-label input.sk-toggleable__control:checked~label.sk-toggleable__label {background-color: #d4ebff;}#sk-container-id-3 input.sk-hidden--visually {border: 0;clip: rect(1px 1px 1px 1px);clip: rect(1px, 1px, 1px, 1px);height: 1px;margin: -1px;overflow: hidden;padding: 0;position: absolute;width: 1px;}#sk-container-id-3 div.sk-estimator {font-family: monospace;background-color: #f0f8ff;border: 1px dotted black;border-radius: 0.25em;box-sizing: border-box;margin-bottom: 0.5em;}#sk-container-id-3 div.sk-estimator:hover {background-color: #d4ebff;}#sk-container-id-3 div.sk-parallel-item::after {content: \"\";width: 100%;border-bottom: 1px solid gray;flex-grow: 1;}#sk-container-id-3 div.sk-label:hover label.sk-toggleable__label {background-color: #d4ebff;}#sk-container-id-3 div.sk-serial::before {content: \"\";position: absolute;border-left: 1px solid gray;box-sizing: border-box;top: 0;bottom: 0;left: 50%;z-index: 0;}#sk-container-id-3 div.sk-serial {display: flex;flex-direction: column;align-items: center;background-color: white;padding-right: 0.2em;padding-left: 0.2em;position: relative;}#sk-container-id-3 div.sk-item {position: relative;z-index: 1;}#sk-container-id-3 div.sk-parallel {display: flex;align-items: stretch;justify-content: center;background-color: white;position: relative;}#sk-container-id-3 div.sk-item::before, #sk-container-id-3 div.sk-parallel-item::before {content: \"\";position: absolute;border-left: 1px solid gray;box-sizing: border-box;top: 0;bottom: 0;left: 50%;z-index: -1;}#sk-container-id-3 div.sk-parallel-item {display: flex;flex-direction: column;z-index: 1;position: relative;background-color: white;}#sk-container-id-3 div.sk-parallel-item:first-child::after {align-self: flex-end;width: 50%;}#sk-container-id-3 div.sk-parallel-item:last-child::after {align-self: flex-start;width: 50%;}#sk-container-id-3 div.sk-parallel-item:only-child::after {width: 0;}#sk-container-id-3 div.sk-dashed-wrapped {border: 1px dashed gray;margin: 0 0.4em 0.5em 0.4em;box-sizing: border-box;padding-bottom: 0.4em;background-color: white;}#sk-container-id-3 div.sk-label label {font-family: monospace;font-weight: bold;display: inline-block;line-height: 1.2em;}#sk-container-id-3 div.sk-label-container {text-align: center;}#sk-container-id-3 div.sk-container {/* jupyter's `normalize.less` sets `[hidden] { display: none; }` but bootstrap.min.css set `[hidden] { display: none !important; }` so we also need the `!important` here to be able to override the default hidden behavior on the sphinx rendered scikit-learn.org. See: https://github.com/scikit-learn/scikit-learn/issues/21755 */display: inline-block !important;position: relative;}#sk-container-id-3 div.sk-text-repr-fallback {display: none;}</style><div id=\"sk-container-id-3\" class=\"sk-top-container\"><div class=\"sk-text-repr-fallback\"><pre>LinearRegression()</pre><b>In a Jupyter environment, please rerun this cell to show the HTML representation or trust the notebook. <br />On GitHub, the HTML representation is unable to render, please try loading this page with nbviewer.org.</b></div><div class=\"sk-container\" hidden><div class=\"sk-item\"><div class=\"sk-estimator sk-toggleable\"><input class=\"sk-toggleable__control sk-hidden--visually\" id=\"sk-estimator-id-3\" type=\"checkbox\" checked><label for=\"sk-estimator-id-3\" class=\"sk-toggleable__label sk-toggleable__label-arrow\">LinearRegression</label><div class=\"sk-toggleable__content\"><pre>LinearRegression()</pre></div></div></div></div></div>"
      ],
      "text/plain": [
       "LinearRegression()"
      ]
     },
     "execution_count": 71,
     "metadata": {},
     "output_type": "execute_result"
    }
   ],
   "source": [
    "# Train the linear regression model\n",
    "model = LinearRegression()\n",
    "model.fit(X_train, y_train)"
   ]
  },
  {
   "cell_type": "code",
   "execution_count": 72,
   "id": "182df4bd",
   "metadata": {},
   "outputs": [
    {
     "name": "stdout",
     "output_type": "stream",
     "text": [
      "Mean Squared Error: 4.5900439238653\n",
      "Accuracy: 0.10102489019033675\n"
     ]
    }
   ],
   "source": [
    "# Make predictions\n",
    "y_pred = model.predict(X_test)\n",
    "y_round = np.round(y_pred).astype(int)\n",
    "\n",
    "# Evaluate the model\n",
    "mse = mean_squared_error(y_test, y_round)\n",
    "print(\"Mean Squared Error:\", mse)\n",
    "# Calculate accuracy\n",
    "accuracy = accuracy_score(y_test, y_round)\n",
    "print(\"Accuracy:\", accuracy)"
   ]
  },
  {
   "cell_type": "code",
   "execution_count": 58,
   "id": "43c17213",
   "metadata": {},
   "outputs": [
    {
     "data": {
      "image/png": "[encoded data removed]",
      "text/plain": [
       "<Figure size 1000x600 with 1 Axes>"
      ]
     },
     "metadata": {},
     "output_type": "display_data"
    },
    {
     "name": "stdout",
     "output_type": "stream",
     "text": [
      "Linear Equation:\n",
      "NUMBER OF ED VISITS: -0.08424945328299217\n",
      "AGE-ADJUSTED ED VISIT RATE: -0.251556999796692\n",
      "NUMERIC YEAR: -0.06359341015164843\n",
      "Intercept: 1.8626373626373627\n"
     ]
    }
   ],
   "source": [
    "# Visualize the data and regression line\n",
    "plt.figure(figsize=(10, 6))\n",
    "\n",
    "# Plotting the actual data points\n",
    "plt.scatter(X_test[:, 0], y_test, color='blue', label='Actual Data')\n",
    "\n",
    "# Sort the data points for plotting the regression line\n",
    "sort_indices = np.argsort(X_test[:, 0])\n",
    "X_test_sorted = X_test[sort_indices]\n",
    "y_pred_sorted = y_pred[sort_indices]\n",
    "\n",
    "# Plotting the regression line\n",
    "plt.plot(X_test_sorted[:, 0], y_pred_sorted, color='red', linewidth=2, label='Regression Line')\n",
    "\n",
    "plt.title('Linear Regression Model')\n",
    "plt.xlabel('Number of ED Visits (Standardized)')\n",
    "plt.ylabel('Numeric Age Group')\n",
    "plt.legend()\n",
    "plt.grid(True)\n",
    "plt.show()\n",
    "\n",
    "# Print the coefficients (linear equation)\n",
    "print(\"Linear Equation:\")\n",
    "for i, feature in enumerate(X.columns):\n",
    "    print(f\"{feature}: {model.coef_[i]}\")\n",
    "print(f\"Intercept: {model.intercept_}\")"
   ]
  },
  {
   "cell_type": "code",
   "execution_count": 59,
   "id": "7039aae4",
   "metadata": {},
   "outputs": [
    {
     "name": "stdout",
     "output_type": "stream",
     "text": [
      "Linear Regression Equation: y = 1.86 + -0.08 * x1 + -0.25 * x2 + -0.06 * x3\n"
     ]
    }
   ],
   "source": [
    "coefficients = model.coef_\n",
    "intercept = model.intercept_\n",
    "\n",
    "# Print the equation\n",
    "equation = f'y = {intercept:.2f}'\n",
    "for i, coef in enumerate(coefficients):\n",
    "    equation += f' + {coef:.2f} * x{i+1}'\n",
    "print(\"Linear Regression Equation:\", equation)"
   ]
  },
  {
   "cell_type": "code",
   "execution_count": null,
   "id": "f348fdf3",
   "metadata": {},
   "outputs": [],
   "source": []
  }
 ],
 "metadata": {
  "kernelspec": {
   "display_name": "Python 3 (ipykernel)",
   "language": "python",
   "name": "python3"
  },
  "language_info": {
   "codemirror_mode": {
    "name": "ipython",
    "version": 3
   },
   "file_extension": ".py",
   "mimetype": "text/x-python",
   "name": "python",
   "nbconvert_exporter": "python",
   "pygments_lexer": "ipython3",
   "version": "3.11.5"
  }
 },
 "nbformat": 4,
 "nbformat_minor": 5
}
